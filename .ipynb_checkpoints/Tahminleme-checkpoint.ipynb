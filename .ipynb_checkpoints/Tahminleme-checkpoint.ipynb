{
 "cells": [
  {
   "cell_type": "markdown",
   "metadata": {},
   "source": [
    "## Paketleri Yükleme"
   ]
  },
  {
   "cell_type": "code",
   "execution_count": 1,
   "metadata": {},
   "outputs": [],
   "source": [
    "import numpy as np\n",
    "import matplotlib.pyplot as plt\n",
    "import pandas as pd"
   ]
  },
  {
   "cell_type": "markdown",
   "metadata": {},
   "source": [
    "## Veri Setini Yükleme"
   ]
  },
  {
   "cell_type": "code",
   "execution_count": 2,
   "metadata": {},
   "outputs": [
    {
     "data": {
      "text/html": [
       "<div>\n",
       "<style scoped>\n",
       "    .dataframe tbody tr th:only-of-type {\n",
       "        vertical-align: middle;\n",
       "    }\n",
       "\n",
       "    .dataframe tbody tr th {\n",
       "        vertical-align: top;\n",
       "    }\n",
       "\n",
       "    .dataframe thead th {\n",
       "        text-align: right;\n",
       "    }\n",
       "</style>\n",
       "<table border=\"1\" class=\"dataframe\">\n",
       "  <thead>\n",
       "    <tr style=\"text-align: right;\">\n",
       "      <th></th>\n",
       "      <th>Gender</th>\n",
       "      <th>Age</th>\n",
       "      <th>Marital Status</th>\n",
       "      <th>Job</th>\n",
       "      <th>Employment Status</th>\n",
       "      <th>Your Phone Model</th>\n",
       "      <th>Your bank information</th>\n",
       "      <th>How many years you are using internet banking application</th>\n",
       "      <th>How many years you are using mobile banking application</th>\n",
       "      <th>Do you find mobile application user-friendly</th>\n",
       "      <th>...</th>\n",
       "      <th>New account opening</th>\n",
       "      <th>Request status</th>\n",
       "      <th>Foreign exchange calculation</th>\n",
       "      <th>Loan calculation</th>\n",
       "      <th>Make an appointment at a bank branch</th>\n",
       "      <th>Donate transactions</th>\n",
       "      <th>View payment schedule</th>\n",
       "      <th>View bank campaigns</th>\n",
       "      <th>Mobile signature use</th>\n",
       "      <th>Communicating with the bank</th>\n",
       "    </tr>\n",
       "    <tr>\n",
       "      <th>ID</th>\n",
       "      <th></th>\n",
       "      <th></th>\n",
       "      <th></th>\n",
       "      <th></th>\n",
       "      <th></th>\n",
       "      <th></th>\n",
       "      <th></th>\n",
       "      <th></th>\n",
       "      <th></th>\n",
       "      <th></th>\n",
       "      <th></th>\n",
       "      <th></th>\n",
       "      <th></th>\n",
       "      <th></th>\n",
       "      <th></th>\n",
       "      <th></th>\n",
       "      <th></th>\n",
       "      <th></th>\n",
       "      <th></th>\n",
       "      <th></th>\n",
       "      <th></th>\n",
       "    </tr>\n",
       "  </thead>\n",
       "  <tbody>\n",
       "    <tr>\n",
       "      <th>1.0</th>\n",
       "      <td>Man</td>\n",
       "      <td>36-40</td>\n",
       "      <td>Married</td>\n",
       "      <td>NaN</td>\n",
       "      <td>Private sector</td>\n",
       "      <td>SONY</td>\n",
       "      <td>Garanti</td>\n",
       "      <td>15+</td>\n",
       "      <td>7</td>\n",
       "      <td>Yes</td>\n",
       "      <td>...</td>\n",
       "      <td>0</td>\n",
       "      <td>0</td>\n",
       "      <td>0</td>\n",
       "      <td>0</td>\n",
       "      <td>0</td>\n",
       "      <td>0</td>\n",
       "      <td>0</td>\n",
       "      <td>0.0</td>\n",
       "      <td>NaN</td>\n",
       "      <td>0.0</td>\n",
       "    </tr>\n",
       "    <tr>\n",
       "      <th>2.0</th>\n",
       "      <td>Woman</td>\n",
       "      <td>31-35</td>\n",
       "      <td>Married</td>\n",
       "      <td>purchasing</td>\n",
       "      <td>Private sector</td>\n",
       "      <td>SAMSUNG A5</td>\n",
       "      <td>Akbank</td>\n",
       "      <td>10+</td>\n",
       "      <td>7</td>\n",
       "      <td>Yes</td>\n",
       "      <td>...</td>\n",
       "      <td>0</td>\n",
       "      <td>0</td>\n",
       "      <td>0</td>\n",
       "      <td>0</td>\n",
       "      <td>0</td>\n",
       "      <td>0</td>\n",
       "      <td>0</td>\n",
       "      <td>0.0</td>\n",
       "      <td>0.0</td>\n",
       "      <td>0.0</td>\n",
       "    </tr>\n",
       "    <tr>\n",
       "      <th>3.0</th>\n",
       "      <td>Woman</td>\n",
       "      <td>20-24</td>\n",
       "      <td>Single</td>\n",
       "      <td>trainer</td>\n",
       "      <td>Private sector</td>\n",
       "      <td>Iphone</td>\n",
       "      <td>Garanti</td>\n",
       "      <td>0-5</td>\n",
       "      <td>5</td>\n",
       "      <td>No</td>\n",
       "      <td>...</td>\n",
       "      <td>9</td>\n",
       "      <td>9</td>\n",
       "      <td>0</td>\n",
       "      <td>0</td>\n",
       "      <td>0</td>\n",
       "      <td>0</td>\n",
       "      <td>9</td>\n",
       "      <td>9.0</td>\n",
       "      <td>0.0</td>\n",
       "      <td>0.0</td>\n",
       "    </tr>\n",
       "    <tr>\n",
       "      <th>4.0</th>\n",
       "      <td>Woman</td>\n",
       "      <td>20-24</td>\n",
       "      <td>Single</td>\n",
       "      <td>trainer</td>\n",
       "      <td>Private sector</td>\n",
       "      <td>Iphone</td>\n",
       "      <td>Ziraat</td>\n",
       "      <td>0-5</td>\n",
       "      <td>5</td>\n",
       "      <td>No</td>\n",
       "      <td>...</td>\n",
       "      <td>9</td>\n",
       "      <td>9</td>\n",
       "      <td>0</td>\n",
       "      <td>0</td>\n",
       "      <td>0</td>\n",
       "      <td>0</td>\n",
       "      <td>9</td>\n",
       "      <td>9.0</td>\n",
       "      <td>0.0</td>\n",
       "      <td>0.0</td>\n",
       "    </tr>\n",
       "    <tr>\n",
       "      <th>5.0</th>\n",
       "      <td>Woman</td>\n",
       "      <td>20-24</td>\n",
       "      <td>Single</td>\n",
       "      <td>trainer</td>\n",
       "      <td>Private sector</td>\n",
       "      <td>Iphone</td>\n",
       "      <td>Isbank</td>\n",
       "      <td>0-5</td>\n",
       "      <td>5</td>\n",
       "      <td>No</td>\n",
       "      <td>...</td>\n",
       "      <td>9</td>\n",
       "      <td>9</td>\n",
       "      <td>0</td>\n",
       "      <td>0</td>\n",
       "      <td>0</td>\n",
       "      <td>0</td>\n",
       "      <td>9</td>\n",
       "      <td>9.0</td>\n",
       "      <td>0.0</td>\n",
       "      <td>0.0</td>\n",
       "    </tr>\n",
       "  </tbody>\n",
       "</table>\n",
       "<p>5 rows × 58 columns</p>\n",
       "</div>"
      ],
      "text/plain": [
       "    Gender    Age Marital Status         Job Employment Status  \\\n",
       "ID                                                               \n",
       "1.0    Man  36-40        Married         NaN    Private sector   \n",
       "2.0  Woman  31-35        Married  purchasing    Private sector   \n",
       "3.0  Woman  20-24         Single     trainer    Private sector   \n",
       "4.0  Woman  20-24         Single     trainer    Private sector   \n",
       "5.0  Woman  20-24         Single     trainer    Private sector   \n",
       "\n",
       "    Your Phone Model Your bank information  \\\n",
       "ID                                           \n",
       "1.0             SONY               Garanti   \n",
       "2.0       SAMSUNG A5                Akbank   \n",
       "3.0          Iphone                Garanti   \n",
       "4.0          Iphone                 Ziraat   \n",
       "5.0          Iphone                 Isbank   \n",
       "\n",
       "    How many years you are using internet banking application  \\\n",
       "ID                                                              \n",
       "1.0                                                15+          \n",
       "2.0                                                10+          \n",
       "3.0                                                0-5          \n",
       "4.0                                                0-5          \n",
       "5.0                                                0-5          \n",
       "\n",
       "    How many years you are using mobile banking application  \\\n",
       "ID                                                            \n",
       "1.0                                                  7        \n",
       "2.0                                                  7        \n",
       "3.0                                                  5        \n",
       "4.0                                                  5        \n",
       "5.0                                                  5        \n",
       "\n",
       "    Do you find mobile application user-friendly             ...               \\\n",
       "ID                                                           ...                \n",
       "1.0                                          Yes             ...                \n",
       "2.0                                          Yes             ...                \n",
       "3.0                                           No             ...                \n",
       "4.0                                           No             ...                \n",
       "5.0                                           No             ...                \n",
       "\n",
       "     New account opening  Request status Foreign exchange calculation  \\\n",
       "ID                                                                      \n",
       "1.0                    0               0                            0   \n",
       "2.0                    0               0                            0   \n",
       "3.0                    9               9                            0   \n",
       "4.0                    9               9                            0   \n",
       "5.0                    9               9                            0   \n",
       "\n",
       "     Loan calculation  Make an appointment at a bank branch  \\\n",
       "ID                                                            \n",
       "1.0                 0                                     0   \n",
       "2.0                 0                                     0   \n",
       "3.0                 0                                     0   \n",
       "4.0                 0                                     0   \n",
       "5.0                 0                                     0   \n",
       "\n",
       "     Donate transactions  View payment schedule  View bank campaigns  \\\n",
       "ID                                                                     \n",
       "1.0                    0                      0                  0.0   \n",
       "2.0                    0                      0                  0.0   \n",
       "3.0                    0                      9                  9.0   \n",
       "4.0                    0                      9                  9.0   \n",
       "5.0                    0                      9                  9.0   \n",
       "\n",
       "     Mobile signature use  Communicating with the bank  \n",
       "ID                                                      \n",
       "1.0                   NaN                          0.0  \n",
       "2.0                   0.0                          0.0  \n",
       "3.0                   0.0                          0.0  \n",
       "4.0                   0.0                          0.0  \n",
       "5.0                   0.0                          0.0  \n",
       "\n",
       "[5 rows x 58 columns]"
      ]
     },
     "execution_count": 2,
     "metadata": {},
     "output_type": "execute_result"
    }
   ],
   "source": [
    "dataset = pd.read_csv('Turkey_Mobil_Data_Usage_Plain_Data_V2_After_Converting_Categorical_Data.csv')\n",
    "dataset.set_index('ID', inplace=True)\n",
    "dataset.head()"
   ]
  },
  {
   "cell_type": "markdown",
   "metadata": {},
   "source": [
    "## Veriyi Düzenleme"
   ]
  },
  {
   "cell_type": "code",
   "execution_count": 3,
   "metadata": {},
   "outputs": [],
   "source": [
    "# No cevabı için tek tip bir yazım sağlanması\n",
    "dataset.loc[dataset['Do you find mobile application user-friendly'] == \"NO\", 'Do you find mobile application user-friendly'] = \"No\""
   ]
  },
  {
   "cell_type": "code",
   "execution_count": 4,
   "metadata": {},
   "outputs": [],
   "source": [
    "# Bazı verilerdeki hatalara yol açan boşluklar kaldırılır.\n",
    "dataset.loc[dataset['Your bank information'] == \"Ziraat \", 'Your bank information'] = \"Ziraat\"\n",
    "dataset.loc[dataset['Your bank information'] == \"Garanti \", 'Your bank information'] = \"Garanti\""
   ]
  },
  {
   "cell_type": "code",
   "execution_count": 5,
   "metadata": {},
   "outputs": [],
   "source": [
    "# NaN kastedilerek yazılan '-' karakteri yerine NaN yazılır.\n",
    "dataset.replace({'-': np.NaN}, inplace=True)"
   ]
  },
  {
   "cell_type": "code",
   "execution_count": 6,
   "metadata": {},
   "outputs": [
    {
     "data": {
      "text/html": [
       "<div>\n",
       "<style scoped>\n",
       "    .dataframe tbody tr th:only-of-type {\n",
       "        vertical-align: middle;\n",
       "    }\n",
       "\n",
       "    .dataframe tbody tr th {\n",
       "        vertical-align: top;\n",
       "    }\n",
       "\n",
       "    .dataframe thead th {\n",
       "        text-align: right;\n",
       "    }\n",
       "</style>\n",
       "<table border=\"1\" class=\"dataframe\">\n",
       "  <thead>\n",
       "    <tr style=\"text-align: right;\">\n",
       "      <th></th>\n",
       "      <th>Gender</th>\n",
       "      <th>Age</th>\n",
       "      <th>Marital Status</th>\n",
       "      <th>Job</th>\n",
       "      <th>Employment Status</th>\n",
       "      <th>Your Phone Model</th>\n",
       "      <th>Your bank information</th>\n",
       "      <th>How many years you are using internet banking application</th>\n",
       "      <th>How many years you are using mobile banking application</th>\n",
       "      <th>Internet banking usage frequency</th>\n",
       "      <th>...</th>\n",
       "      <th>Request status</th>\n",
       "      <th>Foreign exchange calculation</th>\n",
       "      <th>Loan calculation</th>\n",
       "      <th>Make an appointment at a bank branch</th>\n",
       "      <th>Donate transactions</th>\n",
       "      <th>View payment schedule</th>\n",
       "      <th>View bank campaigns</th>\n",
       "      <th>Mobile signature use</th>\n",
       "      <th>Communicating with the bank</th>\n",
       "      <th>Do you find mobile application user-friendly</th>\n",
       "    </tr>\n",
       "    <tr>\n",
       "      <th>ID</th>\n",
       "      <th></th>\n",
       "      <th></th>\n",
       "      <th></th>\n",
       "      <th></th>\n",
       "      <th></th>\n",
       "      <th></th>\n",
       "      <th></th>\n",
       "      <th></th>\n",
       "      <th></th>\n",
       "      <th></th>\n",
       "      <th></th>\n",
       "      <th></th>\n",
       "      <th></th>\n",
       "      <th></th>\n",
       "      <th></th>\n",
       "      <th></th>\n",
       "      <th></th>\n",
       "      <th></th>\n",
       "      <th></th>\n",
       "      <th></th>\n",
       "      <th></th>\n",
       "    </tr>\n",
       "  </thead>\n",
       "  <tbody>\n",
       "    <tr>\n",
       "      <th>1.0</th>\n",
       "      <td>Man</td>\n",
       "      <td>36-40</td>\n",
       "      <td>Married</td>\n",
       "      <td>NaN</td>\n",
       "      <td>Private sector</td>\n",
       "      <td>SONY</td>\n",
       "      <td>Garanti</td>\n",
       "      <td>15+</td>\n",
       "      <td>7</td>\n",
       "      <td>9.0</td>\n",
       "      <td>...</td>\n",
       "      <td>0</td>\n",
       "      <td>0</td>\n",
       "      <td>0</td>\n",
       "      <td>0</td>\n",
       "      <td>0</td>\n",
       "      <td>0</td>\n",
       "      <td>0.0</td>\n",
       "      <td>NaN</td>\n",
       "      <td>0.0</td>\n",
       "      <td>Yes</td>\n",
       "    </tr>\n",
       "    <tr>\n",
       "      <th>2.0</th>\n",
       "      <td>Woman</td>\n",
       "      <td>31-35</td>\n",
       "      <td>Married</td>\n",
       "      <td>purchasing</td>\n",
       "      <td>Private sector</td>\n",
       "      <td>SAMSUNG A5</td>\n",
       "      <td>Akbank</td>\n",
       "      <td>10+</td>\n",
       "      <td>7</td>\n",
       "      <td>5.0</td>\n",
       "      <td>...</td>\n",
       "      <td>0</td>\n",
       "      <td>0</td>\n",
       "      <td>0</td>\n",
       "      <td>0</td>\n",
       "      <td>0</td>\n",
       "      <td>0</td>\n",
       "      <td>0.0</td>\n",
       "      <td>0.0</td>\n",
       "      <td>0.0</td>\n",
       "      <td>Yes</td>\n",
       "    </tr>\n",
       "    <tr>\n",
       "      <th>3.0</th>\n",
       "      <td>Woman</td>\n",
       "      <td>20-24</td>\n",
       "      <td>Single</td>\n",
       "      <td>trainer</td>\n",
       "      <td>Private sector</td>\n",
       "      <td>Iphone</td>\n",
       "      <td>Garanti</td>\n",
       "      <td>0-5</td>\n",
       "      <td>5</td>\n",
       "      <td>7.0</td>\n",
       "      <td>...</td>\n",
       "      <td>9</td>\n",
       "      <td>0</td>\n",
       "      <td>0</td>\n",
       "      <td>0</td>\n",
       "      <td>0</td>\n",
       "      <td>9</td>\n",
       "      <td>9.0</td>\n",
       "      <td>0.0</td>\n",
       "      <td>0.0</td>\n",
       "      <td>No</td>\n",
       "    </tr>\n",
       "    <tr>\n",
       "      <th>4.0</th>\n",
       "      <td>Woman</td>\n",
       "      <td>20-24</td>\n",
       "      <td>Single</td>\n",
       "      <td>trainer</td>\n",
       "      <td>Private sector</td>\n",
       "      <td>Iphone</td>\n",
       "      <td>Ziraat</td>\n",
       "      <td>0-5</td>\n",
       "      <td>5</td>\n",
       "      <td>7.0</td>\n",
       "      <td>...</td>\n",
       "      <td>9</td>\n",
       "      <td>0</td>\n",
       "      <td>0</td>\n",
       "      <td>0</td>\n",
       "      <td>0</td>\n",
       "      <td>9</td>\n",
       "      <td>9.0</td>\n",
       "      <td>0.0</td>\n",
       "      <td>0.0</td>\n",
       "      <td>No</td>\n",
       "    </tr>\n",
       "    <tr>\n",
       "      <th>5.0</th>\n",
       "      <td>Woman</td>\n",
       "      <td>20-24</td>\n",
       "      <td>Single</td>\n",
       "      <td>trainer</td>\n",
       "      <td>Private sector</td>\n",
       "      <td>Iphone</td>\n",
       "      <td>Isbank</td>\n",
       "      <td>0-5</td>\n",
       "      <td>5</td>\n",
       "      <td>7.0</td>\n",
       "      <td>...</td>\n",
       "      <td>9</td>\n",
       "      <td>0</td>\n",
       "      <td>0</td>\n",
       "      <td>0</td>\n",
       "      <td>0</td>\n",
       "      <td>9</td>\n",
       "      <td>9.0</td>\n",
       "      <td>0.0</td>\n",
       "      <td>0.0</td>\n",
       "      <td>No</td>\n",
       "    </tr>\n",
       "  </tbody>\n",
       "</table>\n",
       "<p>5 rows × 58 columns</p>\n",
       "</div>"
      ],
      "text/plain": [
       "    Gender    Age Marital Status         Job Employment Status  \\\n",
       "ID                                                               \n",
       "1.0    Man  36-40        Married         NaN    Private sector   \n",
       "2.0  Woman  31-35        Married  purchasing    Private sector   \n",
       "3.0  Woman  20-24         Single     trainer    Private sector   \n",
       "4.0  Woman  20-24         Single     trainer    Private sector   \n",
       "5.0  Woman  20-24         Single     trainer    Private sector   \n",
       "\n",
       "    Your Phone Model Your bank information  \\\n",
       "ID                                           \n",
       "1.0             SONY               Garanti   \n",
       "2.0       SAMSUNG A5                Akbank   \n",
       "3.0          Iphone                Garanti   \n",
       "4.0          Iphone                 Ziraat   \n",
       "5.0          Iphone                 Isbank   \n",
       "\n",
       "    How many years you are using internet banking application  \\\n",
       "ID                                                              \n",
       "1.0                                                15+          \n",
       "2.0                                                10+          \n",
       "3.0                                                0-5          \n",
       "4.0                                                0-5          \n",
       "5.0                                                0-5          \n",
       "\n",
       "    How many years you are using mobile banking application  \\\n",
       "ID                                                            \n",
       "1.0                                                  7        \n",
       "2.0                                                  7        \n",
       "3.0                                                  5        \n",
       "4.0                                                  5        \n",
       "5.0                                                  5        \n",
       "\n",
       "     Internet banking usage frequency  \\\n",
       "ID                                      \n",
       "1.0                               9.0   \n",
       "2.0                               5.0   \n",
       "3.0                               7.0   \n",
       "4.0                               7.0   \n",
       "5.0                               7.0   \n",
       "\n",
       "                         ...                       Request status  \\\n",
       "ID                       ...                                        \n",
       "1.0                      ...                                    0   \n",
       "2.0                      ...                                    0   \n",
       "3.0                      ...                                    9   \n",
       "4.0                      ...                                    9   \n",
       "5.0                      ...                                    9   \n",
       "\n",
       "    Foreign exchange calculation  Loan calculation  \\\n",
       "ID                                                   \n",
       "1.0                            0                 0   \n",
       "2.0                            0                 0   \n",
       "3.0                            0                 0   \n",
       "4.0                            0                 0   \n",
       "5.0                            0                 0   \n",
       "\n",
       "     Make an appointment at a bank branch  Donate transactions  \\\n",
       "ID                                                               \n",
       "1.0                                     0                    0   \n",
       "2.0                                     0                    0   \n",
       "3.0                                     0                    0   \n",
       "4.0                                     0                    0   \n",
       "5.0                                     0                    0   \n",
       "\n",
       "     View payment schedule  View bank campaigns  Mobile signature use  \\\n",
       "ID                                                                      \n",
       "1.0                      0                  0.0                   NaN   \n",
       "2.0                      0                  0.0                   0.0   \n",
       "3.0                      9                  9.0                   0.0   \n",
       "4.0                      9                  9.0                   0.0   \n",
       "5.0                      9                  9.0                   0.0   \n",
       "\n",
       "     Communicating with the bank  Do you find mobile application user-friendly  \n",
       "ID                                                                              \n",
       "1.0                          0.0                                           Yes  \n",
       "2.0                          0.0                                           Yes  \n",
       "3.0                          0.0                                            No  \n",
       "4.0                          0.0                                            No  \n",
       "5.0                          0.0                                            No  \n",
       "\n",
       "[5 rows x 58 columns]"
      ]
     },
     "execution_count": 6,
     "metadata": {},
     "output_type": "execute_result"
    }
   ],
   "source": [
    "# Target sütunumuz dataframe'deki sütunların en sonuna gönderilir.\n",
    "cols = [col for col in dataset if col != 'Do you find mobile application user-friendly'] + ['Do you find mobile application user-friendly']\n",
    "dataset = dataset[cols]\n",
    "dataset.head()"
   ]
  },
  {
   "cell_type": "markdown",
   "metadata": {},
   "source": [
    "## Veriyi Temizleme"
   ]
  },
  {
   "cell_type": "code",
   "execution_count": 7,
   "metadata": {},
   "outputs": [],
   "source": [
    "# Veriyi temizleme kapsamında 'Your bank information' sütununda 0'ın yer aldığı satırlar silinir. Çünkü 0 ile NaN kastedilmektedir.\n",
    "dataset=dataset.drop(dataset[dataset['Your bank information'] == '0'].index)  "
   ]
  },
  {
   "cell_type": "code",
   "execution_count": 8,
   "metadata": {},
   "outputs": [],
   "source": [
    "dataset=dataset.dropna(axis=1, how='all')  # NaN değeri bulunan veriler silinir.\n",
    "dataset=dataset.dropna(axis=0, how='any')"
   ]
  },
  {
   "cell_type": "markdown",
   "metadata": {},
   "source": [
    "## Veri Setini Öznitelik ve Hedef Olarak Ayırma"
   ]
  },
  {
   "cell_type": "code",
   "execution_count": 9,
   "metadata": {},
   "outputs": [],
   "source": [
    "dataset2 = dataset.iloc[:,9:58]   # Analizde kullanılacak veriler ayrı bir dataset e alınır.\n",
    "X = dataset2.iloc[:, :-1].values  # X matrisi ile y vektörü oluşturulur.\n",
    "y = dataset2.iloc[:, -1].values"
   ]
  },
  {
   "cell_type": "markdown",
   "metadata": {},
   "source": [
    "## Veri Setinin Görselleştirilmesi"
   ]
  },
  {
   "cell_type": "markdown",
   "metadata": {},
   "source": [
    "### Veri Setinde Bilgileri Yer Alan Kullanıcıların Cinsiyet Dağılımı"
   ]
  },
  {
   "cell_type": "code",
   "execution_count": 10,
   "metadata": {},
   "outputs": [
    {
     "name": "stdout",
     "output_type": "stream",
     "text": [
      "Man      62\n",
      "Woman    38\n",
      "Name: Gender, dtype: int64\n"
     ]
    },
    {
     "data": {
      "image/png": "[encoded data removed]",
      "text/plain": [
       "<matplotlib.figure.Figure at 0x7f6a9a2579b0>"
      ]
     },
     "metadata": {},
     "output_type": "display_data"
    }
   ],
   "source": [
    "dataset[\"Gender\"].value_counts().plot(kind=\"bar\")\n",
    "print(dataset[\"Gender\"].value_counts())"
   ]
  },
  {
   "cell_type": "markdown",
   "metadata": {},
   "source": [
    "### Kullanıcıların Tercih Ettiği Bankalar "
   ]
  },
  {
   "cell_type": "code",
   "execution_count": 11,
   "metadata": {},
   "outputs": [
    {
     "name": "stdout",
     "output_type": "stream",
     "text": [
      "Garanti       23\n",
      "Ziraat        20\n",
      "Akbank        14\n",
      "Yapi Kredi    13\n",
      "Isbank        10\n",
      "Finansbank     5\n",
      "Vakifbank      4\n",
      "EnPara         3\n",
      "Denizbank      3\n",
      "Halk Bank      2\n",
      "Burganbank     1\n",
      "KuveytTurk     1\n",
      "ING            1\n",
      "Name: Your bank information, dtype: int64\n"
     ]
    },
    {
     "data": {
      "image/png": "[encoded data removed]",
      "text/plain": [
       "<matplotlib.figure.Figure at 0x7f6a9a257860>"
      ]
     },
     "metadata": {},
     "output_type": "display_data"
    }
   ],
   "source": [
    "dataset[\"Your bank information\"].value_counts().plot(kind=\"bar\")\n",
    "print(dataset[\"Your bank information\"].value_counts())"
   ]
  },
  {
   "cell_type": "markdown",
   "metadata": {},
   "source": [
    "### Kullanıcıların Yaş Dağılımı"
   ]
  },
  {
   "cell_type": "code",
   "execution_count": 12,
   "metadata": {},
   "outputs": [
    {
     "name": "stdout",
     "output_type": "stream",
     "text": [
      "25-30    47\n",
      "20-24    26\n",
      "36-40    10\n",
      "31-35     9\n",
      "41-45     3\n",
      "45-50     3\n",
      "50+       2\n",
      "Name: Age, dtype: int64\n"
     ]
    },
    {
     "data": {
      "image/png": "[encoded data removed]",
      "text/plain": [
       "<matplotlib.figure.Figure at 0x7f6a6a80a0f0>"
      ]
     },
     "metadata": {},
     "output_type": "display_data"
    }
   ],
   "source": [
    "dataset.Age.value_counts().plot(kind ='pie')\n",
    "print(dataset.Age.value_counts())"
   ]
  },
  {
   "cell_type": "markdown",
   "metadata": {},
   "source": [
    "### Kullanıcıların Mobil Uygulamayı Kullanıcı Dostu Bulup Bulmama Sorusuna Verdiği Cevaplar"
   ]
  },
  {
   "cell_type": "code",
   "execution_count": 13,
   "metadata": {},
   "outputs": [
    {
     "data": {
      "text/plain": [
       "<matplotlib.axes._subplots.AxesSubplot at 0x7f6a6216ef98>"
      ]
     },
     "execution_count": 13,
     "metadata": {},
     "output_type": "execute_result"
    },
    {
     "data": {
      "image/png": "[encoded data removed]",
      "text/plain": [
       "<matplotlib.figure.Figure at 0x7f6a621e3cf8>"
      ]
     },
     "metadata": {},
     "output_type": "display_data"
    }
   ],
   "source": [
    "dataset2['Do you find mobile application user-friendly'].value_counts().plot(kind=\"bar\")"
   ]
  },
  {
   "cell_type": "markdown",
   "metadata": {},
   "source": [
    "### Kullanıcıların Mobil Uygulamayı Kullanıcı Dostu Bulup Bulmamalarına Göre Mobil Bankacılık Kullanım Sıklığı Ortalamaları "
   ]
  },
  {
   "cell_type": "code",
   "execution_count": 14,
   "metadata": {},
   "outputs": [
    {
     "data": {
      "text/plain": [
       "<matplotlib.axes._subplots.AxesSubplot at 0x7f6a620ff358>"
      ]
     },
     "execution_count": 14,
     "metadata": {},
     "output_type": "execute_result"
    },
    {
     "data": {
      "image/png": "[encoded data removed]",
      "text/plain": [
       "<matplotlib.figure.Figure at 0x7f6a620a78d0>"
      ]
     },
     "metadata": {},
     "output_type": "display_data"
    }
   ],
   "source": [
    "dataset2.groupby('Do you find mobile application user-friendly')['Mobile banking usage frequency'].mean().plot(kind='bar')"
   ]
  },
  {
   "cell_type": "markdown",
   "metadata": {},
   "source": [
    "### İnternet Bankacılığı ve Mobil Bankacılık Kullanım Sıklığı Yoğunluk Grafiği"
   ]
  },
  {
   "cell_type": "code",
   "execution_count": 15,
   "metadata": {},
   "outputs": [
    {
     "data": {
      "text/plain": [
       "<matplotlib.axes._subplots.AxesSubplot at 0x7f6a62050780>"
      ]
     },
     "execution_count": 15,
     "metadata": {},
     "output_type": "execute_result"
    },
    {
     "data": {
      "image/png": "[encoded data removed]",
      "text/plain": [
       "<matplotlib.figure.Figure at 0x7f6a8cf61be0>"
      ]
     },
     "metadata": {},
     "output_type": "display_data"
    }
   ],
   "source": [
    "density=dataset2.drop(dataset2.columns[2:49:1],axis=1)\n",
    "density.plot.density()"
   ]
  },
  {
   "cell_type": "markdown",
   "metadata": {},
   "source": [
    "### Mobil Uygulamayı Kullanıcı Dostu Bulanların ve Bulmayanların Uygulamayı Kullanma Yoğunlukları "
   ]
  },
  {
   "cell_type": "code",
   "execution_count": 16,
   "metadata": {},
   "outputs": [
    {
     "data": {
      "text/plain": [
       "(array([1., 0., 0., 1., 0., 9., 2., 5., 2., 6.]),\n",
       " array([0. , 0.9, 1.8, 2.7, 3.6, 4.5, 5.4, 6.3, 7.2, 8.1, 9. ]),\n",
       " <a list of 10 Patch objects>)"
      ]
     },
     "execution_count": 16,
     "metadata": {},
     "output_type": "execute_result"
    },
    {
     "data": {
      "image/png": "[encoded data removed]",
      "text/plain": [
       "<matplotlib.figure.Figure at 0x7f6a5a34b550>"
      ]
     },
     "metadata": {},
     "output_type": "display_data"
    }
   ],
   "source": [
    "df=dataset2.drop(dataset2.columns[2:48:1], axis=1)\n",
    "df=df.drop(df.columns[0], axis=1)\n",
    "userFriendly=df[df['Do you find mobile application user-friendly']==\"Yes\"]\n",
    "notUserFriendly=df[df['Do you find mobile application user-friendly']==\"No\"]\n",
    "fig = plt.figure(figsize=(8,3))\n",
    "p1 = fig.add_subplot(1,2,1)\n",
    "plt.hist(userFriendly[\"Mobile banking usage frequency\"] ,bins=10, color=\"indigo\")\n",
    "p2 = fig.add_subplot(1,2,2)\n",
    "plt.hist(notUserFriendly[\"Mobile banking usage frequency\"] ,bins=10, color=\"salmon\")"
   ]
  },
  {
   "cell_type": "markdown",
   "metadata": {},
   "source": [
    "### Kullanıcıların Tercih Ettiği Bankalara Göre Mobil Bankacılık Uygulamasını Ne Kadar Kullanıcı Dostu Bulduğuna Dair Daire Grafiği"
   ]
  },
  {
   "cell_type": "code",
   "execution_count": 17,
   "metadata": {},
   "outputs": [
    {
     "data": {
      "image/png": "[encoded data removed]",
      "text/plain": [
       "<matplotlib.figure.Figure at 0x7f6a5a3589b0>"
      ]
     },
     "metadata": {},
     "output_type": "display_data"
    }
   ],
   "source": [
    "label = {'Yes': 1, 'No': 0}\n",
    "df=dataset.applymap(lambda s: label.get(s) if s in label else s)\n",
    "fig = plt.figure(figsize=(5,5))\n",
    "p1 = fig.add_subplot(1,1,1)\n",
    "df.groupby('Your bank information')['Do you find mobile application user-friendly'].sum().plot(kind='pie')\n",
    "plt.show()"
   ]
  },
  {
   "cell_type": "markdown",
   "metadata": {},
   "source": [
    "## Veri Setinin Analizi"
   ]
  },
  {
   "cell_type": "markdown",
   "metadata": {},
   "source": [
    "### Modeli Eğitme & Performans Metriklerini Uygulama"
   ]
  },
  {
   "cell_type": "code",
   "execution_count": 18,
   "metadata": {},
   "outputs": [],
   "source": [
    "from sklearn.model_selection import KFold, StratifiedKFold, cross_val_score\n",
    "from sklearn.tree import DecisionTreeClassifier\n",
    "from sklearn.metrics import confusion_matrix,classification_report\n",
    "from sklearn.metrics import precision_recall_fscore_support\n",
    "from sklearn.tree import export_graphviz"
   ]
  },
  {
   "cell_type": "code",
   "execution_count": 19,
   "metadata": {},
   "outputs": [
    {
     "data": {
      "text/plain": [
       "ID\n",
       "2.0      1\n",
       "3.0      0\n",
       "4.0      0\n",
       "5.0      0\n",
       "7.0      1\n",
       "9.0      1\n",
       "10.0     1\n",
       "11.0     1\n",
       "13.0     1\n",
       "14.0     1\n",
       "15.0     1\n",
       "16.0     1\n",
       "18.0     1\n",
       "19.0     0\n",
       "20.0     0\n",
       "21.0     0\n",
       "23.0     0\n",
       "24.0     1\n",
       "26.0     1\n",
       "27.0     1\n",
       "28.0     1\n",
       "31.0     1\n",
       "34.0     0\n",
       "35.0     1\n",
       "36.0     0\n",
       "37.0     1\n",
       "52.0     0\n",
       "61.0     1\n",
       "62.0     1\n",
       "63.0     1\n",
       "        ..\n",
       "216.0    1\n",
       "217.0    1\n",
       "218.0    1\n",
       "219.0    1\n",
       "220.0    1\n",
       "222.0    0\n",
       "223.0    1\n",
       "225.0    1\n",
       "226.0    1\n",
       "228.0    1\n",
       "231.0    1\n",
       "232.0    1\n",
       "233.0    1\n",
       "234.0    1\n",
       "235.0    1\n",
       "236.0    1\n",
       "237.0    0\n",
       "238.0    1\n",
       "239.0    1\n",
       "240.0    0\n",
       "241.0    0\n",
       "242.0    1\n",
       "243.0    1\n",
       "244.0    1\n",
       "245.0    1\n",
       "246.0    1\n",
       "247.0    1\n",
       "249.0    1\n",
       "250.0    1\n",
       "251.0    1\n",
       "Name: Do you find mobile application user-friendly, Length: 100, dtype: int64"
      ]
     },
     "execution_count": 19,
     "metadata": {},
     "output_type": "execute_result"
    }
   ],
   "source": [
    "# Hedef sütuna binarization işlemi uygulanır\n",
    "y= dataset2['Do you find mobile application user-friendly']\n",
    "y= y=='Yes'\n",
    "y=y.astype(int)\n",
    "y"
   ]
  },
  {
   "cell_type": "markdown",
   "metadata": {},
   "source": [
    "### cross_val_score ile f1-score ve auc metrik değerlerini görüntüleme "
   ]
  },
  {
   "cell_type": "code",
   "execution_count": 21,
   "metadata": {},
   "outputs": [
    {
     "name": "stdout",
     "output_type": "stream",
     "text": [
      "F1-score: \n",
      "\n",
      " [0.71428571 0.77777778 0.82352941 0.77777778 0.76923077 0.72727273\n",
      " 0.72727273 0.93333333 0.93333333 0.875     ] \n",
      "\n",
      "Average: \n",
      "\n",
      " 0.8058813572048866\n"
     ]
    }
   ],
   "source": [
    "skf = StratifiedKFold(n_splits=10, shuffle=True)\n",
    "clf_tree=DecisionTreeClassifier(class_weight=\"balanced\")  \n",
    "\n",
    "f1_scores=cross_val_score(clf_tree, X, y, cv=skf, scoring='f1')\n",
    "print(\"F1-score: \\n\\n\", f1_scores, \"\\n\\nAverage: \\n\\n\", np.mean(f1_scores))"
   ]
  },
  {
   "cell_type": "code",
   "execution_count": 23,
   "metadata": {},
   "outputs": [
    {
     "name": "stdout",
     "output_type": "stream",
     "text": [
      "Auc: \n",
      "\n",
      " [0.77083333 0.375      0.60416667 0.83333333 0.5        0.76190476\n",
      " 0.42857143 0.67857143 0.67857143 0.64285714] \n",
      "\n",
      "Average: \n",
      "\n",
      " 0.6273809523809525\n"
     ]
    }
   ],
   "source": [
    "auc_scores=cross_val_score(clf_tree, X, y, cv=skf, scoring='roc_auc')\n",
    "print(\"Auc: \\n\\n\", auc_scores, \"\\n\\nAverage: \\n\\n\", np.mean(auc_scores))"
   ]
  },
  {
   "cell_type": "markdown",
   "metadata": {},
   "source": [
    "### 10 kat çapraz doğrulama yöntemi kullanılarak ulaşılan, her bir kat için ayrı  Precision, Recall, F1-Score ve Support değerlerinin classification_report kullanarak görüntülenmesi"
   ]
  },
  {
   "cell_type": "code",
   "execution_count": 24,
   "metadata": {},
   "outputs": [
    {
     "data": {
      "text/plain": [
       "array([1, 0, 0, 0, 1, 1, 1, 1, 1, 1, 1, 1, 1, 0, 0, 0, 0, 1, 1, 1, 1, 1,\n",
       "       0, 1, 0, 1, 0, 1, 1, 1, 0, 1, 1, 1, 0, 1, 1, 1, 0, 1, 1, 1, 0, 1,\n",
       "       0, 0, 0, 1, 0, 1, 1, 0, 1, 1, 1, 0, 1, 1, 1, 1, 1, 1, 1, 0, 1, 1,\n",
       "       1, 1, 0, 1, 1, 1, 1, 1, 1, 0, 1, 1, 1, 1, 1, 1, 1, 1, 1, 1, 0, 1,\n",
       "       1, 0, 0, 1, 1, 1, 1, 1, 1, 1, 1, 1])"
      ]
     },
     "execution_count": 24,
     "metadata": {},
     "output_type": "execute_result"
    }
   ],
   "source": [
    "# Yukarıda series nesnesi olan y, array'e çevrilir\n",
    "y= np.array(y)\n",
    "y"
   ]
  },
  {
   "cell_type": "code",
   "execution_count": 33,
   "metadata": {},
   "outputs": [
    {
     "name": "stdout",
     "output_type": "stream",
     "text": [
      "1 . fold\n",
      "             precision    recall  f1-score   support\n",
      "\n",
      "          0       0.50      0.33      0.40         3\n",
      "          1       0.78      0.88      0.82         8\n",
      "\n",
      "avg / total       0.70      0.73      0.71        11\n",
      "\n",
      "y_test:  [1 0 1 1 0 1 1 1 1 0 1]\n",
      "y_pred:  [1 0 1 1 1 1 1 0 1 1 1]\n",
      "\n",
      "---------------------------------------------------------------------------------\n",
      "\n",
      "2 . fold\n",
      "             precision    recall  f1-score   support\n",
      "\n",
      "          0       0.67      0.67      0.67         3\n",
      "          1       0.88      0.88      0.88         8\n",
      "\n",
      "avg / total       0.82      0.82      0.82        11\n",
      "\n",
      "y_test:  [0 1 0 1 1 1 1 1 1 0 1]\n",
      "y_pred:  [1 1 0 0 1 1 1 1 1 0 1]\n",
      "\n",
      "---------------------------------------------------------------------------------\n",
      "\n",
      "3 . fold\n",
      "             precision    recall  f1-score   support\n",
      "\n",
      "          0       1.00      0.33      0.50         3\n",
      "          1       0.80      1.00      0.89         8\n",
      "\n",
      "avg / total       0.85      0.82      0.78        11\n",
      "\n",
      "y_test:  [0 1 0 0 1 1 1 1 1 1 1]\n",
      "y_pred:  [0 1 1 1 1 1 1 1 1 1 1]\n",
      "\n",
      "---------------------------------------------------------------------------------\n",
      "\n",
      "4 . fold\n",
      "             precision    recall  f1-score   support\n",
      "\n",
      "          0       0.33      0.33      0.33         3\n",
      "          1       0.75      0.75      0.75         8\n",
      "\n",
      "avg / total       0.64      0.64      0.64        11\n",
      "\n",
      "y_test:  [1 1 1 0 1 0 1 0 1 1 1]\n",
      "y_pred:  [1 0 1 1 1 1 1 0 0 1 1]\n",
      "\n",
      "---------------------------------------------------------------------------------\n",
      "\n",
      "5 . fold\n",
      "             precision    recall  f1-score   support\n",
      "\n",
      "          0       0.33      0.33      0.33         3\n",
      "          1       0.71      0.71      0.71         7\n",
      "\n",
      "avg / total       0.60      0.60      0.60        10\n",
      "\n",
      "y_test:  [1 1 1 1 0 0 1 1 0 1]\n",
      "y_pred:  [1 1 0 1 1 0 1 0 1 1]\n",
      "\n",
      "---------------------------------------------------------------------------------\n",
      "\n",
      "6 . fold\n",
      "             precision    recall  f1-score   support\n",
      "\n",
      "          0       0.67      0.67      0.67         3\n",
      "          1       0.86      0.86      0.86         7\n",
      "\n",
      "avg / total       0.80      0.80      0.80        10\n",
      "\n",
      "y_test:  [1 1 0 1 0 0 1 1 1 1]\n",
      "y_pred:  [1 1 1 0 0 0 1 1 1 1]\n",
      "\n",
      "---------------------------------------------------------------------------------\n",
      "\n",
      "7 . fold\n",
      "             precision    recall  f1-score   support\n",
      "\n",
      "          0       1.00      0.50      0.67         2\n",
      "          1       0.88      1.00      0.93         7\n",
      "\n",
      "avg / total       0.90      0.89      0.87         9\n",
      "\n",
      "y_test:  [1 0 0 1 1 1 1 1 1]\n",
      "y_pred:  [1 1 0 1 1 1 1 1 1]\n",
      "\n",
      "---------------------------------------------------------------------------------\n",
      "\n",
      "8 . fold\n",
      "             precision    recall  f1-score   support\n",
      "\n",
      "          0       0.25      0.50      0.33         2\n",
      "          1       0.80      0.57      0.67         7\n",
      "\n",
      "avg / total       0.68      0.56      0.59         9\n",
      "\n",
      "y_test:  [1 1 1 1 0 0 1 1 1]\n",
      "y_pred:  [0 0 1 1 0 1 0 1 1]\n",
      "\n",
      "---------------------------------------------------------------------------------\n",
      "\n",
      "9 . fold\n",
      "             precision    recall  f1-score   support\n",
      "\n",
      "          0       0.50      0.50      0.50         2\n",
      "          1       0.86      0.86      0.86         7\n",
      "\n",
      "avg / total       0.78      0.78      0.78         9\n",
      "\n",
      "y_test:  [1 0 1 1 1 1 1 1 0]\n",
      "y_pred:  [1 0 0 1 1 1 1 1 1]\n",
      "\n",
      "---------------------------------------------------------------------------------\n",
      "\n",
      "10 . fold\n",
      "             precision    recall  f1-score   support\n",
      "\n",
      "          0       0.40      1.00      0.57         2\n",
      "          1       1.00      0.57      0.73         7\n",
      "\n",
      "avg / total       0.87      0.67      0.69         9\n",
      "\n",
      "y_test:  [0 1 0 1 1 1 1 1 1]\n",
      "y_pred:  [0 0 0 1 0 1 1 1 0]\n",
      "\n",
      "---------------------------------------------------------------------------------\n",
      "\n",
      "Avg score: \n",
      "\n",
      "Avg precision (No-Yes): 0.57 - 0.83\n",
      "Avg recall (No-Yes): 0.52 - 0.81\n",
      "Avg f1-score (No-Yes): 0.50 - 0.81\n",
      "Avg support (No-Yes): 2.60 - 7.40\n"
     ]
    }
   ],
   "source": [
    "score_array =[] \n",
    "k=1\n",
    "for train_index, test_index in skf.split(X, y):\n",
    "    print(k, \". fold\")\n",
    "    k+=1\n",
    "    X_train, X_test = X[train_index], X[test_index]\n",
    "    y_train, y_test = y[train_index], y[test_index]\n",
    "    clf=clf_tree.fit(X_train,y_train)\n",
    "    y_pred = clf.predict(X_test)\n",
    "    print(classification_report(y_test,clf_tree.predict(X_test)))\n",
    "    # Her bir katta bulunan değerler daha sonra ortalama hesaplamak üzere score_array'e eklenir.\n",
    "    score_array.append(precision_recall_fscore_support(y_test, y_pred, average=None))\n",
    "    print(\"y_test: \", y_test)\n",
    "    print(\"y_pred: \", y_pred)\n",
    "    print(\"\\n---------------------------------------------------------------------------------\\n\")\n",
    "# Her bir katta bulunan Precision, Recall, F1-Score ve Support değerlerinin ortalaması alınarak sistemin genel durumu tespit edilir.\n",
    "avg_score = np.mean(score_array, axis=0) \n",
    "print(\"Avg score: \\n\")\n",
    "print(\"Avg precision (No-Yes): {0:.2f} - {1:.2f}\".format(avg_score[0][0], avg_score[0][1]))\n",
    "print(\"Avg recall (No-Yes): {0:.2f} - {1:.2f}\".format(avg_score[1][0], avg_score[1][1]))\n",
    "print(\"Avg f1-score (No-Yes): {0:.2f} - {1:.2f}\".format(avg_score[2][0], avg_score[2][1]))\n",
    "print(\"Avg support (No-Yes): {0:.2f} - {1:.2f}\".format(avg_score[3][0], avg_score[3][1]))"
   ]
  },
  {
   "cell_type": "markdown",
   "metadata": {},
   "source": [
    "### Karar Ağacını Kaydetme"
   ]
  },
  {
   "cell_type": "code",
   "execution_count": 34,
   "metadata": {},
   "outputs": [],
   "source": [
    "export_graphviz(clf, out_file='tree.dot')"
   ]
  },
  {
   "cell_type": "markdown",
   "metadata": {},
   "source": [
    "## Sonuçların Görselleştirmesi"
   ]
  },
  {
   "cell_type": "markdown",
   "metadata": {},
   "source": [
    "#### Her bir kat için ayrı bulunan Precision, Recall, F1-Score ve Support değerlerinin bar chart ile gösterilmesi"
   ]
  },
  {
   "cell_type": "code",
   "execution_count": 35,
   "metadata": {},
   "outputs": [
    {
     "name": "stdout",
     "output_type": "stream",
     "text": [
      "   1 . fold\n"
     ]
    },
    {
     "data": {
      "image/png": "[encoded data removed]",
      "text/plain": [
       "<matplotlib.figure.Figure at 0x7f6a57b064a8>"
      ]
     },
     "metadata": {},
     "output_type": "display_data"
    },
    {
     "name": "stdout",
     "output_type": "stream",
     "text": [
      "      0.50         0.78        0.33         0.88        0.40          0.82         3            8\n",
      "\n",
      "\n",
      "   2 . fold\n"
     ]
    },
    {
     "data": {
      "image/png": "[encoded data removed]",
      "text/plain": [
       "<matplotlib.figure.Figure at 0x7f6a57a9c550>"
      ]
     },
     "metadata": {},
     "output_type": "display_data"
    },
    {
     "name": "stdout",
     "output_type": "stream",
     "text": [
      "      0.67         0.88        0.67         0.88        0.67          0.88         3            8\n",
      "\n",
      "\n",
      "   3 . fold\n"
     ]
    },
    {
     "data": {
      "image/png": "[encoded data removed]",
      "text/plain": [
       "<matplotlib.figure.Figure at 0x7f6a579c6710>"
      ]
     },
     "metadata": {},
     "output_type": "display_data"
    },
    {
     "name": "stdout",
     "output_type": "stream",
     "text": [
      "      1.00         0.80        0.33         1.00        0.50          0.89         3            8\n",
      "\n",
      "\n",
      "   4 . fold\n"
     ]
    },
    {
     "data": {
      "image/png": "[encoded data removed]",
      "text/plain": [
       "<matplotlib.figure.Figure at 0x7f6a578c8860>"
      ]
     },
     "metadata": {},
     "output_type": "display_data"
    },
    {
     "name": "stdout",
     "output_type": "stream",
     "text": [
      "      0.33         0.75        0.33         0.75        0.33          0.75         3            8\n",
      "\n",
      "\n",
      "   5 . fold\n"
     ]
    },
    {
     "data": {
      "image/png": "[encoded data removed]",
      "text/plain": [
       "<matplotlib.figure.Figure at 0x7f6a57723518>"
      ]
     },
     "metadata": {},
     "output_type": "display_data"
    },
    {
     "name": "stdout",
     "output_type": "stream",
     "text": [
      "      0.33         0.71        0.33         0.71        0.33          0.71         3            7\n",
      "\n",
      "\n",
      "   6 . fold\n"
     ]
    },
    {
     "data": {
      "image/png": "[encoded data removed]",
      "text/plain": [
       "<matplotlib.figure.Figure at 0x7f6a575765c0>"
      ]
     },
     "metadata": {},
     "output_type": "display_data"
    },
    {
     "name": "stdout",
     "output_type": "stream",
     "text": [
      "      0.67         0.86        0.67         0.86        0.67          0.86         3            7\n",
      "\n",
      "\n",
      "   7 . fold\n"
     ]
    },
    {
     "data": {
      "image/png": "[encoded data removed]",
      "text/plain": [
       "<matplotlib.figure.Figure at 0x7f6a574fd588>"
      ]
     },
     "metadata": {},
     "output_type": "display_data"
    },
    {
     "name": "stdout",
     "output_type": "stream",
     "text": [
      "      1.00         0.88        0.50         1.00        0.67          0.93         2            7\n",
      "\n",
      "\n",
      "   8 . fold\n"
     ]
    },
    {
     "data": {
      "image/png": "[encoded data removed]",
      "text/plain": [
       "<matplotlib.figure.Figure at 0x7f6a57479b38>"
      ]
     },
     "metadata": {},
     "output_type": "display_data"
    },
    {
     "name": "stdout",
     "output_type": "stream",
     "text": [
      "      0.25         0.80        0.50         0.57        0.33          0.67         2            7\n",
      "\n",
      "\n",
      "   9 . fold\n"
     ]
    },
    {
     "data": {
      "image/png": "[encoded data removed]",
      "text/plain": [
       "<matplotlib.figure.Figure at 0x7f6a5744ef98>"
      ]
     },
     "metadata": {},
     "output_type": "display_data"
    },
    {
     "name": "stdout",
     "output_type": "stream",
     "text": [
      "      0.50         0.86        0.50         0.86        0.50          0.86         2            7\n",
      "\n",
      "\n",
      "   10 . fold\n"
     ]
    },
    {
     "data": {
      "image/png": "[encoded data removed]",
      "text/plain": [
       "<matplotlib.figure.Figure at 0x7f6a5762b8d0>"
      ]
     },
     "metadata": {},
     "output_type": "display_data"
    },
    {
     "name": "stdout",
     "output_type": "stream",
     "text": [
      "      0.40         1.00        1.00         0.57        0.57          0.73         2            7\n",
      "\n",
      "\n"
     ]
    }
   ],
   "source": [
    "noYes=[\"No\",\"Yes\"]\n",
    "for i in range(len(score_array)):\n",
    "    print(\"  \", i+1, \".\", \"fold\")\n",
    "    fig = plt.figure(figsize=(13,2.5))\n",
    "    p1 = fig.add_subplot(1,4,1)\n",
    "    plt.bar(noYes, score_array[i][0], 0.4, alpha=0.4, color=\"blue\")   \n",
    "    plt.xlabel('Precision')\n",
    "    p2 = fig.add_subplot(1,4,2)\n",
    "    plt.bar(noYes, score_array[i][1], 0.4, alpha=0.4, color=\"red\")   \n",
    "    plt.xlabel('Recall')\n",
    "    p3 = fig.add_subplot(1,4,3)\n",
    "    plt.bar(noYes, score_array[i][2], 0.4, alpha=0.4, color=\"yellow\")   \n",
    "    plt.xlabel('F1-Score')\n",
    "    p4 = fig.add_subplot(1,4,4)\n",
    "    plt.bar(noYes, score_array[i][3], 0.4, alpha=0.4, color=\"green\")   \n",
    "    plt.xlabel('Support')\n",
    "    plt.show()   \n",
    "    print(\"      {0:.2f}         {1:.2f}        {2:.2f}         {3:.2f}        {4:.2f}          {5:.2f}         {6:.0f}            {7:.0f}\\n\\n\".format(score_array[i][0][0], score_array[i][0][1],score_array[i][1][0], score_array[i][1][1], score_array[i][2][0], score_array[i][2][1], score_array[i][3][0], score_array[i][3][1]))"
   ]
  },
  {
   "cell_type": "markdown",
   "metadata": {},
   "source": [
    "#### Örnek olarak seçilen 10 öznitelik sütunundaki veriye karşılık gelen hedef sütundaki verinin scatter plot ile gösterilmesi"
   ]
  },
  {
   "cell_type": "code",
   "execution_count": 36,
   "metadata": {},
   "outputs": [
    {
     "name": "stdout",
     "output_type": "stream",
     "text": [
      "Internet banking usage frequency\n"
     ]
    },
    {
     "data": {
      "image/png": "[encoded data removed]",
      "text/plain": [
       "<matplotlib.figure.Figure at 0x7f6a57b67710>"
      ]
     },
     "metadata": {},
     "output_type": "display_data"
    },
    {
     "name": "stdout",
     "output_type": "stream",
     "text": [
      "\n",
      "\n",
      "Mobile banking usage frequency\n"
     ]
    },
    {
     "data": {
      "image/png": "[encoded data removed]",
      "text/plain": [
       "<matplotlib.figure.Figure at 0x7f6a620d7c18>"
      ]
     },
     "metadata": {},
     "output_type": "display_data"
    },
    {
     "name": "stdout",
     "output_type": "stream",
     "text": [
      "\n",
      "\n",
      "Credit card debt inquiry\n"
     ]
    },
    {
     "data": {
      "image/png": "[encoded data removed]",
      "text/plain": [
       "<matplotlib.figure.Figure at 0x7f6a578375f8>"
      ]
     },
     "metadata": {},
     "output_type": "display_data"
    },
    {
     "name": "stdout",
     "output_type": "stream",
     "text": [
      "\n",
      "\n",
      "Credit card debt payment\n"
     ]
    },
    {
     "data": {
      "image/png": "[encoded data removed]",
      "text/plain": [
       "<matplotlib.figure.Figure at 0x7f6a578a4da0>"
      ]
     },
     "metadata": {},
     "output_type": "display_data"
    },
    {
     "name": "stdout",
     "output_type": "stream",
     "text": [
      "\n",
      "\n",
      "Credit card limit transactions\n"
     ]
    },
    {
     "data": {
      "image/png": "[encoded data removed]",
      "text/plain": [
       "<matplotlib.figure.Figure at 0x7f6a577de860>"
      ]
     },
     "metadata": {},
     "output_type": "display_data"
    },
    {
     "name": "stdout",
     "output_type": "stream",
     "text": [
      "\n",
      "\n",
      "Create & delete virtual card\n"
     ]
    },
    {
     "data": {
      "image/png": "[encoded data removed]",
      "text/plain": [
       "<matplotlib.figure.Figure at 0x7f6a57a5d9b0>"
      ]
     },
     "metadata": {},
     "output_type": "display_data"
    },
    {
     "name": "stdout",
     "output_type": "stream",
     "text": [
      "\n",
      "\n",
      "Virtual card limit transactions\n"
     ]
    },
    {
     "data": {
      "image/png": "[encoded data removed]",
      "text/plain": [
       "<matplotlib.figure.Figure at 0x7f6a5a35f588>"
      ]
     },
     "metadata": {},
     "output_type": "display_data"
    },
    {
     "name": "stdout",
     "output_type": "stream",
     "text": [
      "\n",
      "\n",
      "An additional new card application\n"
     ]
    },
    {
     "data": {
      "image/png": "[encoded data removed]",
      "text/plain": [
       "<matplotlib.figure.Figure at 0x7f6a62055470>"
      ]
     },
     "metadata": {},
     "output_type": "display_data"
    },
    {
     "name": "stdout",
     "output_type": "stream",
     "text": [
      "\n",
      "\n",
      "Opening a new account\n"
     ]
    },
    {
     "data": {
      "image/png": "[encoded data removed]",
      "text/plain": [
       "<matplotlib.figure.Figure at 0x7f6a57fdff98>"
      ]
     },
     "metadata": {},
     "output_type": "display_data"
    },
    {
     "name": "stdout",
     "output_type": "stream",
     "text": [
      "\n",
      "\n",
      "Balance check\n"
     ]
    },
    {
     "data": {
      "image/png": "[encoded data removed]",
      "text/plain": [
       "<matplotlib.figure.Figure at 0x7f6a57879940>"
      ]
     },
     "metadata": {},
     "output_type": "display_data"
    },
    {
     "name": "stdout",
     "output_type": "stream",
     "text": [
      "\n",
      "\n"
     ]
    }
   ],
   "source": [
    "j=0\n",
    "for i in dataset2.columns:\n",
    "    if j==10:\n",
    "        break\n",
    "    print(i)\n",
    "    plt.scatter(dataset2[i], dataset2['Do you find mobile application user-friendly'], alpha=0.07)\n",
    "    plt.show()\n",
    "    print(\"\\n\")\n",
    "    j+=1"
   ]
  },
  {
   "cell_type": "markdown",
   "metadata": {},
   "source": [
    "#### f1-score ve auc değerlerinin kıyaslanması "
   ]
  },
  {
   "cell_type": "code",
   "execution_count": 40,
   "metadata": {},
   "outputs": [
    {
     "data": {
      "text/plain": [
       "<matplotlib.collections.PathCollection at 0x7f6a57664710>"
      ]
     },
     "execution_count": 40,
     "metadata": {},
     "output_type": "execute_result"
    },
    {
     "data": {
      "image/png": "[encoded data removed]",
      "text/plain": [
       "<matplotlib.figure.Figure at 0x7f6a579eafd0>"
      ]
     },
     "metadata": {},
     "output_type": "display_data"
    }
   ],
   "source": [
    "plt.scatter(f1_scores, f1_scores, color = 'red')\n",
    "plt.scatter(auc_scores, auc_scores, color = 'blue')"
   ]
  }
 ],
 "metadata": {
  "kernelspec": {
   "display_name": "Python 3",
   "language": "python",
   "name": "python3"
  },
  "language_info": {
   "codemirror_mode": {
    "name": "ipython",
    "version": 3
   },
   "file_extension": ".py",
   "mimetype": "text/x-python",
   "name": "python",
   "nbconvert_exporter": "python",
   "pygments_lexer": "ipython3",
   "version": "3.6.4"
  }
 },
 "nbformat": 4,
 "nbformat_minor": 2
}
