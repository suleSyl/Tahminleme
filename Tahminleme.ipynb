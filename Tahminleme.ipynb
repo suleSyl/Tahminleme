{
 "cells": [
  {
   "cell_type": "markdown",
   "metadata": {},
   "source": [
    "## Paketleri Yükleme"
   ]
  },
  {
   "cell_type": "code",
   "execution_count": 83,
   "metadata": {},
   "outputs": [],
   "source": [
    "import numpy as np\n",
    "import matplotlib.pyplot as plt\n",
    "import pandas as pd"
   ]
  },
  {
   "cell_type": "markdown",
   "metadata": {},
   "source": [
    "## Veri Setini Yükleme"
   ]
  },
  {
   "cell_type": "code",
   "execution_count": 84,
   "metadata": {},
   "outputs": [
    {
     "data": {
      "text/html": [
       "<div>\n",
       "<style scoped>\n",
       "    .dataframe tbody tr th:only-of-type {\n",
       "        vertical-align: middle;\n",
       "    }\n",
       "\n",
       "    .dataframe tbody tr th {\n",
       "        vertical-align: top;\n",
       "    }\n",
       "\n",
       "    .dataframe thead th {\n",
       "        text-align: right;\n",
       "    }\n",
       "</style>\n",
       "<table border=\"1\" class=\"dataframe\">\n",
       "  <thead>\n",
       "    <tr style=\"text-align: right;\">\n",
       "      <th></th>\n",
       "      <th>Gender</th>\n",
       "      <th>Age</th>\n",
       "      <th>Marital Status</th>\n",
       "      <th>Job</th>\n",
       "      <th>Employment Status</th>\n",
       "      <th>Your Phone Model</th>\n",
       "      <th>Your bank information</th>\n",
       "      <th>How many years you are using internet banking application</th>\n",
       "      <th>How many years you are using mobile banking application</th>\n",
       "      <th>Do you find mobile application user-friendly</th>\n",
       "      <th>...</th>\n",
       "      <th>New account opening</th>\n",
       "      <th>Request status</th>\n",
       "      <th>Foreign exchange calculation</th>\n",
       "      <th>Loan calculation</th>\n",
       "      <th>Make an appointment at a bank branch</th>\n",
       "      <th>Donate transactions</th>\n",
       "      <th>View payment schedule</th>\n",
       "      <th>View bank campaigns</th>\n",
       "      <th>Mobile signature use</th>\n",
       "      <th>Communicating with the bank</th>\n",
       "    </tr>\n",
       "    <tr>\n",
       "      <th>ID</th>\n",
       "      <th></th>\n",
       "      <th></th>\n",
       "      <th></th>\n",
       "      <th></th>\n",
       "      <th></th>\n",
       "      <th></th>\n",
       "      <th></th>\n",
       "      <th></th>\n",
       "      <th></th>\n",
       "      <th></th>\n",
       "      <th></th>\n",
       "      <th></th>\n",
       "      <th></th>\n",
       "      <th></th>\n",
       "      <th></th>\n",
       "      <th></th>\n",
       "      <th></th>\n",
       "      <th></th>\n",
       "      <th></th>\n",
       "      <th></th>\n",
       "      <th></th>\n",
       "    </tr>\n",
       "  </thead>\n",
       "  <tbody>\n",
       "    <tr>\n",
       "      <th>1.0</th>\n",
       "      <td>Man</td>\n",
       "      <td>36-40</td>\n",
       "      <td>Married</td>\n",
       "      <td>NaN</td>\n",
       "      <td>Private sector</td>\n",
       "      <td>SONY</td>\n",
       "      <td>Garanti</td>\n",
       "      <td>15+</td>\n",
       "      <td>7</td>\n",
       "      <td>Yes</td>\n",
       "      <td>...</td>\n",
       "      <td>0</td>\n",
       "      <td>0</td>\n",
       "      <td>0</td>\n",
       "      <td>0</td>\n",
       "      <td>0</td>\n",
       "      <td>0</td>\n",
       "      <td>0</td>\n",
       "      <td>0.0</td>\n",
       "      <td>NaN</td>\n",
       "      <td>0.0</td>\n",
       "    </tr>\n",
       "    <tr>\n",
       "      <th>2.0</th>\n",
       "      <td>Woman</td>\n",
       "      <td>31-35</td>\n",
       "      <td>Married</td>\n",
       "      <td>purchasing</td>\n",
       "      <td>Private sector</td>\n",
       "      <td>SAMSUNG A5</td>\n",
       "      <td>Akbank</td>\n",
       "      <td>10+</td>\n",
       "      <td>7</td>\n",
       "      <td>Yes</td>\n",
       "      <td>...</td>\n",
       "      <td>0</td>\n",
       "      <td>0</td>\n",
       "      <td>0</td>\n",
       "      <td>0</td>\n",
       "      <td>0</td>\n",
       "      <td>0</td>\n",
       "      <td>0</td>\n",
       "      <td>0.0</td>\n",
       "      <td>0.0</td>\n",
       "      <td>0.0</td>\n",
       "    </tr>\n",
       "    <tr>\n",
       "      <th>3.0</th>\n",
       "      <td>Woman</td>\n",
       "      <td>20-24</td>\n",
       "      <td>Single</td>\n",
       "      <td>trainer</td>\n",
       "      <td>Private sector</td>\n",
       "      <td>Iphone</td>\n",
       "      <td>Garanti</td>\n",
       "      <td>0-5</td>\n",
       "      <td>5</td>\n",
       "      <td>No</td>\n",
       "      <td>...</td>\n",
       "      <td>9</td>\n",
       "      <td>9</td>\n",
       "      <td>0</td>\n",
       "      <td>0</td>\n",
       "      <td>0</td>\n",
       "      <td>0</td>\n",
       "      <td>9</td>\n",
       "      <td>9.0</td>\n",
       "      <td>0.0</td>\n",
       "      <td>0.0</td>\n",
       "    </tr>\n",
       "    <tr>\n",
       "      <th>4.0</th>\n",
       "      <td>Woman</td>\n",
       "      <td>20-24</td>\n",
       "      <td>Single</td>\n",
       "      <td>trainer</td>\n",
       "      <td>Private sector</td>\n",
       "      <td>Iphone</td>\n",
       "      <td>Ziraat</td>\n",
       "      <td>0-5</td>\n",
       "      <td>5</td>\n",
       "      <td>No</td>\n",
       "      <td>...</td>\n",
       "      <td>9</td>\n",
       "      <td>9</td>\n",
       "      <td>0</td>\n",
       "      <td>0</td>\n",
       "      <td>0</td>\n",
       "      <td>0</td>\n",
       "      <td>9</td>\n",
       "      <td>9.0</td>\n",
       "      <td>0.0</td>\n",
       "      <td>0.0</td>\n",
       "    </tr>\n",
       "    <tr>\n",
       "      <th>5.0</th>\n",
       "      <td>Woman</td>\n",
       "      <td>20-24</td>\n",
       "      <td>Single</td>\n",
       "      <td>trainer</td>\n",
       "      <td>Private sector</td>\n",
       "      <td>Iphone</td>\n",
       "      <td>Isbank</td>\n",
       "      <td>0-5</td>\n",
       "      <td>5</td>\n",
       "      <td>No</td>\n",
       "      <td>...</td>\n",
       "      <td>9</td>\n",
       "      <td>9</td>\n",
       "      <td>0</td>\n",
       "      <td>0</td>\n",
       "      <td>0</td>\n",
       "      <td>0</td>\n",
       "      <td>9</td>\n",
       "      <td>9.0</td>\n",
       "      <td>0.0</td>\n",
       "      <td>0.0</td>\n",
       "    </tr>\n",
       "  </tbody>\n",
       "</table>\n",
       "<p>5 rows × 58 columns</p>\n",
       "</div>"
      ],
      "text/plain": [
       "    Gender    Age Marital Status         Job Employment Status  \\\n",
       "ID                                                               \n",
       "1.0    Man  36-40        Married         NaN    Private sector   \n",
       "2.0  Woman  31-35        Married  purchasing    Private sector   \n",
       "3.0  Woman  20-24         Single     trainer    Private sector   \n",
       "4.0  Woman  20-24         Single     trainer    Private sector   \n",
       "5.0  Woman  20-24         Single     trainer    Private sector   \n",
       "\n",
       "    Your Phone Model Your bank information  \\\n",
       "ID                                           \n",
       "1.0             SONY               Garanti   \n",
       "2.0       SAMSUNG A5                Akbank   \n",
       "3.0          Iphone                Garanti   \n",
       "4.0          Iphone                 Ziraat   \n",
       "5.0          Iphone                 Isbank   \n",
       "\n",
       "    How many years you are using internet banking application  \\\n",
       "ID                                                              \n",
       "1.0                                                15+          \n",
       "2.0                                                10+          \n",
       "3.0                                                0-5          \n",
       "4.0                                                0-5          \n",
       "5.0                                                0-5          \n",
       "\n",
       "    How many years you are using mobile banking application  \\\n",
       "ID                                                            \n",
       "1.0                                                  7        \n",
       "2.0                                                  7        \n",
       "3.0                                                  5        \n",
       "4.0                                                  5        \n",
       "5.0                                                  5        \n",
       "\n",
       "    Do you find mobile application user-friendly             ...               \\\n",
       "ID                                                           ...                \n",
       "1.0                                          Yes             ...                \n",
       "2.0                                          Yes             ...                \n",
       "3.0                                           No             ...                \n",
       "4.0                                           No             ...                \n",
       "5.0                                           No             ...                \n",
       "\n",
       "     New account opening  Request status Foreign exchange calculation  \\\n",
       "ID                                                                      \n",
       "1.0                    0               0                            0   \n",
       "2.0                    0               0                            0   \n",
       "3.0                    9               9                            0   \n",
       "4.0                    9               9                            0   \n",
       "5.0                    9               9                            0   \n",
       "\n",
       "     Loan calculation  Make an appointment at a bank branch  \\\n",
       "ID                                                            \n",
       "1.0                 0                                     0   \n",
       "2.0                 0                                     0   \n",
       "3.0                 0                                     0   \n",
       "4.0                 0                                     0   \n",
       "5.0                 0                                     0   \n",
       "\n",
       "     Donate transactions  View payment schedule  View bank campaigns  \\\n",
       "ID                                                                     \n",
       "1.0                    0                      0                  0.0   \n",
       "2.0                    0                      0                  0.0   \n",
       "3.0                    0                      9                  9.0   \n",
       "4.0                    0                      9                  9.0   \n",
       "5.0                    0                      9                  9.0   \n",
       "\n",
       "     Mobile signature use  Communicating with the bank  \n",
       "ID                                                      \n",
       "1.0                   NaN                          0.0  \n",
       "2.0                   0.0                          0.0  \n",
       "3.0                   0.0                          0.0  \n",
       "4.0                   0.0                          0.0  \n",
       "5.0                   0.0                          0.0  \n",
       "\n",
       "[5 rows x 58 columns]"
      ]
     },
     "execution_count": 84,
     "metadata": {},
     "output_type": "execute_result"
    }
   ],
   "source": [
    "dataset = pd.read_csv('Turkey_Mobil_Data_Usage_Plain_Data_V2_After_Converting_Categorical_Data.csv')\n",
    "dataset.set_index('ID', inplace=True)\n",
    "dataset.head()"
   ]
  },
  {
   "cell_type": "markdown",
   "metadata": {},
   "source": [
    "## Veriyi Düzenleme"
   ]
  },
  {
   "cell_type": "code",
   "execution_count": 85,
   "metadata": {},
   "outputs": [],
   "source": [
    "# No cevabı için tek tip bir yazım sağlanması\n",
    "dataset.loc[dataset['Do you find mobile application user-friendly'] == \"NO\", 'Do you find mobile application user-friendly'] = \"No\""
   ]
  },
  {
   "cell_type": "code",
   "execution_count": 86,
   "metadata": {},
   "outputs": [],
   "source": [
    "# Bazı verilerdeki hatalara yol açan boşluklar kaldırılır.\n",
    "dataset.loc[dataset['Your bank information'] == \"Ziraat \", 'Your bank information'] = \"Ziraat\"\n",
    "dataset.loc[dataset['Your bank information'] == \"Garanti \", 'Your bank information'] = \"Garanti\""
   ]
  },
  {
   "cell_type": "code",
   "execution_count": 87,
   "metadata": {},
   "outputs": [],
   "source": [
    "# NaN kastedilerek yazılan '-' karakteri yerine NaN yazılır.\n",
    "dataset.replace({'-': np.NaN}, inplace=True)"
   ]
  },
  {
   "cell_type": "code",
   "execution_count": 88,
   "metadata": {},
   "outputs": [
    {
     "data": {
      "text/html": [
       "<div>\n",
       "<style scoped>\n",
       "    .dataframe tbody tr th:only-of-type {\n",
       "        vertical-align: middle;\n",
       "    }\n",
       "\n",
       "    .dataframe tbody tr th {\n",
       "        vertical-align: top;\n",
       "    }\n",
       "\n",
       "    .dataframe thead th {\n",
       "        text-align: right;\n",
       "    }\n",
       "</style>\n",
       "<table border=\"1\" class=\"dataframe\">\n",
       "  <thead>\n",
       "    <tr style=\"text-align: right;\">\n",
       "      <th></th>\n",
       "      <th>Gender</th>\n",
       "      <th>Age</th>\n",
       "      <th>Marital Status</th>\n",
       "      <th>Job</th>\n",
       "      <th>Employment Status</th>\n",
       "      <th>Your Phone Model</th>\n",
       "      <th>Your bank information</th>\n",
       "      <th>How many years you are using internet banking application</th>\n",
       "      <th>How many years you are using mobile banking application</th>\n",
       "      <th>Internet banking usage frequency</th>\n",
       "      <th>...</th>\n",
       "      <th>Request status</th>\n",
       "      <th>Foreign exchange calculation</th>\n",
       "      <th>Loan calculation</th>\n",
       "      <th>Make an appointment at a bank branch</th>\n",
       "      <th>Donate transactions</th>\n",
       "      <th>View payment schedule</th>\n",
       "      <th>View bank campaigns</th>\n",
       "      <th>Mobile signature use</th>\n",
       "      <th>Communicating with the bank</th>\n",
       "      <th>Do you find mobile application user-friendly</th>\n",
       "    </tr>\n",
       "    <tr>\n",
       "      <th>ID</th>\n",
       "      <th></th>\n",
       "      <th></th>\n",
       "      <th></th>\n",
       "      <th></th>\n",
       "      <th></th>\n",
       "      <th></th>\n",
       "      <th></th>\n",
       "      <th></th>\n",
       "      <th></th>\n",
       "      <th></th>\n",
       "      <th></th>\n",
       "      <th></th>\n",
       "      <th></th>\n",
       "      <th></th>\n",
       "      <th></th>\n",
       "      <th></th>\n",
       "      <th></th>\n",
       "      <th></th>\n",
       "      <th></th>\n",
       "      <th></th>\n",
       "      <th></th>\n",
       "    </tr>\n",
       "  </thead>\n",
       "  <tbody>\n",
       "    <tr>\n",
       "      <th>1.0</th>\n",
       "      <td>Man</td>\n",
       "      <td>36-40</td>\n",
       "      <td>Married</td>\n",
       "      <td>NaN</td>\n",
       "      <td>Private sector</td>\n",
       "      <td>SONY</td>\n",
       "      <td>Garanti</td>\n",
       "      <td>15+</td>\n",
       "      <td>7</td>\n",
       "      <td>9.0</td>\n",
       "      <td>...</td>\n",
       "      <td>0</td>\n",
       "      <td>0</td>\n",
       "      <td>0</td>\n",
       "      <td>0</td>\n",
       "      <td>0</td>\n",
       "      <td>0</td>\n",
       "      <td>0.0</td>\n",
       "      <td>NaN</td>\n",
       "      <td>0.0</td>\n",
       "      <td>Yes</td>\n",
       "    </tr>\n",
       "    <tr>\n",
       "      <th>2.0</th>\n",
       "      <td>Woman</td>\n",
       "      <td>31-35</td>\n",
       "      <td>Married</td>\n",
       "      <td>purchasing</td>\n",
       "      <td>Private sector</td>\n",
       "      <td>SAMSUNG A5</td>\n",
       "      <td>Akbank</td>\n",
       "      <td>10+</td>\n",
       "      <td>7</td>\n",
       "      <td>5.0</td>\n",
       "      <td>...</td>\n",
       "      <td>0</td>\n",
       "      <td>0</td>\n",
       "      <td>0</td>\n",
       "      <td>0</td>\n",
       "      <td>0</td>\n",
       "      <td>0</td>\n",
       "      <td>0.0</td>\n",
       "      <td>0.0</td>\n",
       "      <td>0.0</td>\n",
       "      <td>Yes</td>\n",
       "    </tr>\n",
       "    <tr>\n",
       "      <th>3.0</th>\n",
       "      <td>Woman</td>\n",
       "      <td>20-24</td>\n",
       "      <td>Single</td>\n",
       "      <td>trainer</td>\n",
       "      <td>Private sector</td>\n",
       "      <td>Iphone</td>\n",
       "      <td>Garanti</td>\n",
       "      <td>0-5</td>\n",
       "      <td>5</td>\n",
       "      <td>7.0</td>\n",
       "      <td>...</td>\n",
       "      <td>9</td>\n",
       "      <td>0</td>\n",
       "      <td>0</td>\n",
       "      <td>0</td>\n",
       "      <td>0</td>\n",
       "      <td>9</td>\n",
       "      <td>9.0</td>\n",
       "      <td>0.0</td>\n",
       "      <td>0.0</td>\n",
       "      <td>No</td>\n",
       "    </tr>\n",
       "    <tr>\n",
       "      <th>4.0</th>\n",
       "      <td>Woman</td>\n",
       "      <td>20-24</td>\n",
       "      <td>Single</td>\n",
       "      <td>trainer</td>\n",
       "      <td>Private sector</td>\n",
       "      <td>Iphone</td>\n",
       "      <td>Ziraat</td>\n",
       "      <td>0-5</td>\n",
       "      <td>5</td>\n",
       "      <td>7.0</td>\n",
       "      <td>...</td>\n",
       "      <td>9</td>\n",
       "      <td>0</td>\n",
       "      <td>0</td>\n",
       "      <td>0</td>\n",
       "      <td>0</td>\n",
       "      <td>9</td>\n",
       "      <td>9.0</td>\n",
       "      <td>0.0</td>\n",
       "      <td>0.0</td>\n",
       "      <td>No</td>\n",
       "    </tr>\n",
       "    <tr>\n",
       "      <th>5.0</th>\n",
       "      <td>Woman</td>\n",
       "      <td>20-24</td>\n",
       "      <td>Single</td>\n",
       "      <td>trainer</td>\n",
       "      <td>Private sector</td>\n",
       "      <td>Iphone</td>\n",
       "      <td>Isbank</td>\n",
       "      <td>0-5</td>\n",
       "      <td>5</td>\n",
       "      <td>7.0</td>\n",
       "      <td>...</td>\n",
       "      <td>9</td>\n",
       "      <td>0</td>\n",
       "      <td>0</td>\n",
       "      <td>0</td>\n",
       "      <td>0</td>\n",
       "      <td>9</td>\n",
       "      <td>9.0</td>\n",
       "      <td>0.0</td>\n",
       "      <td>0.0</td>\n",
       "      <td>No</td>\n",
       "    </tr>\n",
       "  </tbody>\n",
       "</table>\n",
       "<p>5 rows × 58 columns</p>\n",
       "</div>"
      ],
      "text/plain": [
       "    Gender    Age Marital Status         Job Employment Status  \\\n",
       "ID                                                               \n",
       "1.0    Man  36-40        Married         NaN    Private sector   \n",
       "2.0  Woman  31-35        Married  purchasing    Private sector   \n",
       "3.0  Woman  20-24         Single     trainer    Private sector   \n",
       "4.0  Woman  20-24         Single     trainer    Private sector   \n",
       "5.0  Woman  20-24         Single     trainer    Private sector   \n",
       "\n",
       "    Your Phone Model Your bank information  \\\n",
       "ID                                           \n",
       "1.0             SONY               Garanti   \n",
       "2.0       SAMSUNG A5                Akbank   \n",
       "3.0          Iphone                Garanti   \n",
       "4.0          Iphone                 Ziraat   \n",
       "5.0          Iphone                 Isbank   \n",
       "\n",
       "    How many years you are using internet banking application  \\\n",
       "ID                                                              \n",
       "1.0                                                15+          \n",
       "2.0                                                10+          \n",
       "3.0                                                0-5          \n",
       "4.0                                                0-5          \n",
       "5.0                                                0-5          \n",
       "\n",
       "    How many years you are using mobile banking application  \\\n",
       "ID                                                            \n",
       "1.0                                                  7        \n",
       "2.0                                                  7        \n",
       "3.0                                                  5        \n",
       "4.0                                                  5        \n",
       "5.0                                                  5        \n",
       "\n",
       "     Internet banking usage frequency  \\\n",
       "ID                                      \n",
       "1.0                               9.0   \n",
       "2.0                               5.0   \n",
       "3.0                               7.0   \n",
       "4.0                               7.0   \n",
       "5.0                               7.0   \n",
       "\n",
       "                         ...                       Request status  \\\n",
       "ID                       ...                                        \n",
       "1.0                      ...                                    0   \n",
       "2.0                      ...                                    0   \n",
       "3.0                      ...                                    9   \n",
       "4.0                      ...                                    9   \n",
       "5.0                      ...                                    9   \n",
       "\n",
       "    Foreign exchange calculation  Loan calculation  \\\n",
       "ID                                                   \n",
       "1.0                            0                 0   \n",
       "2.0                            0                 0   \n",
       "3.0                            0                 0   \n",
       "4.0                            0                 0   \n",
       "5.0                            0                 0   \n",
       "\n",
       "     Make an appointment at a bank branch  Donate transactions  \\\n",
       "ID                                                               \n",
       "1.0                                     0                    0   \n",
       "2.0                                     0                    0   \n",
       "3.0                                     0                    0   \n",
       "4.0                                     0                    0   \n",
       "5.0                                     0                    0   \n",
       "\n",
       "     View payment schedule  View bank campaigns  Mobile signature use  \\\n",
       "ID                                                                      \n",
       "1.0                      0                  0.0                   NaN   \n",
       "2.0                      0                  0.0                   0.0   \n",
       "3.0                      9                  9.0                   0.0   \n",
       "4.0                      9                  9.0                   0.0   \n",
       "5.0                      9                  9.0                   0.0   \n",
       "\n",
       "     Communicating with the bank  Do you find mobile application user-friendly  \n",
       "ID                                                                              \n",
       "1.0                          0.0                                           Yes  \n",
       "2.0                          0.0                                           Yes  \n",
       "3.0                          0.0                                            No  \n",
       "4.0                          0.0                                            No  \n",
       "5.0                          0.0                                            No  \n",
       "\n",
       "[5 rows x 58 columns]"
      ]
     },
     "execution_count": 88,
     "metadata": {},
     "output_type": "execute_result"
    }
   ],
   "source": [
    "# Target sütunumuz dataframe'deki sütunların en sonuna gönderilir.\n",
    "cols = [col for col in dataset if col != 'Do you find mobile application user-friendly'] + ['Do you find mobile application user-friendly']\n",
    "dataset = dataset[cols]\n",
    "dataset.head()"
   ]
  },
  {
   "cell_type": "markdown",
   "metadata": {},
   "source": [
    "## Veriyi Temizleme"
   ]
  },
  {
   "cell_type": "code",
   "execution_count": 89,
   "metadata": {},
   "outputs": [],
   "source": [
    "# Veriyi temizleme kapsamında 'Your bank information' sütununda 0'ın yer aldığı satırlar silinir. Çünkü 0 ile NaN kastedilmektedir.\n",
    "dataset=dataset.drop(dataset[dataset['Your bank information'] == '0'].index)  "
   ]
  },
  {
   "cell_type": "code",
   "execution_count": 90,
   "metadata": {},
   "outputs": [],
   "source": [
    "dataset=dataset.dropna(axis=1, how='all')  # NaN değeri bulunan veriler silinir.\n",
    "dataset=dataset.dropna(axis=0, how='any')"
   ]
  },
  {
   "cell_type": "markdown",
   "metadata": {},
   "source": [
    "## Veri Setini Öznitelik ve Hedef Olarak Ayırma"
   ]
  },
  {
   "cell_type": "code",
   "execution_count": 91,
   "metadata": {},
   "outputs": [],
   "source": [
    "dataset2 = dataset.iloc[:,9:58]   # Analizde kullanılacak veriler ayrı bir dataset e alınır.\n",
    "X = dataset2.iloc[:, :-1].values  # X matrisi ile y vektörü oluşturulur.\n",
    "y = dataset2.iloc[:, -1].values"
   ]
  },
  {
   "cell_type": "markdown",
   "metadata": {},
   "source": [
    "## Veri Setinin Görselleştirilmesi"
   ]
  },
  {
   "cell_type": "markdown",
   "metadata": {},
   "source": [
    "### Veri Setinde Bilgileri Yer Alan Kullanıcıların Cinsiyet Dağılımı"
   ]
  },
  {
   "cell_type": "code",
   "execution_count": 92,
   "metadata": {},
   "outputs": [
    {
     "name": "stdout",
     "output_type": "stream",
     "text": [
      "Man      62\n",
      "Woman    38\n",
      "Name: Gender, dtype: int64\n"
     ]
    },
    {
     "data": {
      "image/png": "[encoded data removed]",
      "text/plain": [
       "<matplotlib.figure.Figure at 0x7f3eb2dfd588>"
      ]
     },
     "metadata": {},
     "output_type": "display_data"
    }
   ],
   "source": [
    "dataset[\"Gender\"].value_counts().plot(kind=\"bar\")\n",
    "print(dataset[\"Gender\"].value_counts())"
   ]
  },
  {
   "cell_type": "markdown",
   "metadata": {},
   "source": [
    "### Kullanıcıların Tercih Ettiği Bankalar "
   ]
  },
  {
   "cell_type": "code",
   "execution_count": 93,
   "metadata": {},
   "outputs": [
    {
     "name": "stdout",
     "output_type": "stream",
     "text": [
      "Garanti       23\n",
      "Ziraat        20\n",
      "Akbank        14\n",
      "Yapi Kredi    13\n",
      "Isbank        10\n",
      "Finansbank     5\n",
      "Vakifbank      4\n",
      "EnPara         3\n",
      "Denizbank      3\n",
      "Halk Bank      2\n",
      "KuveytTurk     1\n",
      "ING            1\n",
      "Burganbank     1\n",
      "Name: Your bank information, dtype: int64\n"
     ]
    },
    {
     "data": {
      "image/png": "[encoded data removed]",
      "text/plain": [
       "<matplotlib.figure.Figure at 0x7f3eb30ce7f0>"
      ]
     },
     "metadata": {},
     "output_type": "display_data"
    }
   ],
   "source": [
    "dataset[\"Your bank information\"].value_counts().plot(kind=\"bar\")\n",
    "print(dataset[\"Your bank information\"].value_counts())"
   ]
  },
  {
   "cell_type": "markdown",
   "metadata": {},
   "source": [
    "### Kullanıcıların Yaş Dağılımı"
   ]
  },
  {
   "cell_type": "code",
   "execution_count": 94,
   "metadata": {},
   "outputs": [
    {
     "name": "stdout",
     "output_type": "stream",
     "text": [
      "25-30    47\n",
      "20-24    26\n",
      "36-40    10\n",
      "31-35     9\n",
      "41-45     3\n",
      "45-50     3\n",
      "50+       2\n",
      "Name: Age, dtype: int64\n"
     ]
    },
    {
     "data": {
      "image/png": "[encoded data removed]",
      "text/plain": [
       "<matplotlib.figure.Figure at 0x7f3eb2d7f898>"
      ]
     },
     "metadata": {},
     "output_type": "display_data"
    }
   ],
   "source": [
    "dataset.Age.value_counts().plot(kind ='pie')\n",
    "print(dataset.Age.value_counts())"
   ]
  },
  {
   "cell_type": "markdown",
   "metadata": {},
   "source": [
    "### Kullanıcıların Mobil Uygulamayı Kullanıcı Dostu Bulup Bulmama Sorusuna Verdiği Cevaplar"
   ]
  },
  {
   "cell_type": "code",
   "execution_count": 95,
   "metadata": {},
   "outputs": [
    {
     "data": {
      "text/plain": [
       "<matplotlib.axes._subplots.AxesSubplot at 0x7f3eb2cb5f98>"
      ]
     },
     "execution_count": 95,
     "metadata": {},
     "output_type": "execute_result"
    },
    {
     "data": {
      "image/png": "[encoded data removed]",
      "text/plain": [
       "<matplotlib.figure.Figure at 0x7f3eb2cfb3c8>"
      ]
     },
     "metadata": {},
     "output_type": "display_data"
    }
   ],
   "source": [
    "dataset2['Do you find mobile application user-friendly'].value_counts().plot(kind=\"bar\")"
   ]
  },
  {
   "cell_type": "markdown",
   "metadata": {},
   "source": [
    "### Kullanıcıların Mobil Uygulamayı Kullanıcı Dostu Bulup Bulmamalarına Göre Mobil Bankacılık Kullanım Sıklığı Ortalamaları "
   ]
  },
  {
   "cell_type": "code",
   "execution_count": 96,
   "metadata": {},
   "outputs": [
    {
     "data": {
      "text/plain": [
       "<matplotlib.axes._subplots.AxesSubplot at 0x7f3eb2cfbc88>"
      ]
     },
     "execution_count": 96,
     "metadata": {},
     "output_type": "execute_result"
    },
    {
     "data": {
      "image/png": "[encoded data removed]",
      "text/plain": [
       "<matplotlib.figure.Figure at 0x7f3eb2cd15f8>"
      ]
     },
     "metadata": {},
     "output_type": "display_data"
    }
   ],
   "source": [
    "dataset2.groupby('Do you find mobile application user-friendly')['Mobile banking usage frequency'].mean().plot(kind='bar')"
   ]
  },
  {
   "cell_type": "markdown",
   "metadata": {},
   "source": [
    "### İnternet Bankacılığı ve Mobil Bankacılık Kullanım Sıklığı Yoğunluk Grafiği"
   ]
  },
  {
   "cell_type": "code",
   "execution_count": 97,
   "metadata": {},
   "outputs": [
    {
     "data": {
      "text/plain": [
       "<matplotlib.axes._subplots.AxesSubplot at 0x7f3eb2c4bd68>"
      ]
     },
     "execution_count": 97,
     "metadata": {},
     "output_type": "execute_result"
    },
    {
     "data": {
      "image/png": "[encoded data removed]",
      "text/plain": [
       "<matplotlib.figure.Figure at 0x7f3eb2c25940>"
      ]
     },
     "metadata": {},
     "output_type": "display_data"
    }
   ],
   "source": [
    "density=dataset2.drop(dataset2.columns[2:49:1],axis=1)\n",
    "density.plot.density()"
   ]
  },
  {
   "cell_type": "markdown",
   "metadata": {},
   "source": [
    "### Mobil Uygulamayı Kullanıcı Dostu Bulanların ve Bulmayanların Uygulamayı Kullanma Yoğunlukları "
   ]
  },
  {
   "cell_type": "code",
   "execution_count": 98,
   "metadata": {},
   "outputs": [
    {
     "data": {
      "text/plain": [
       "(array([1., 0., 0., 1., 0., 9., 2., 5., 2., 6.]),\n",
       " array([0. , 0.9, 1.8, 2.7, 3.6, 4.5, 5.4, 6.3, 7.2, 8.1, 9. ]),\n",
       " <a list of 10 Patch objects>)"
      ]
     },
     "execution_count": 98,
     "metadata": {},
     "output_type": "execute_result"
    },
    {
     "data": {
      "image/png": "[encoded data removed]",
      "text/plain": [
       "<matplotlib.figure.Figure at 0x7f3eb2f77048>"
      ]
     },
     "metadata": {},
     "output_type": "display_data"
    }
   ],
   "source": [
    "df=dataset2.drop(dataset2.columns[2:48:1], axis=1)\n",
    "df=df.drop(df.columns[0], axis=1)\n",
    "userFriendly=df[df['Do you find mobile application user-friendly']==\"Yes\"]\n",
    "notUserFriendly=df[df['Do you find mobile application user-friendly']==\"No\"]\n",
    "fig = plt.figure(figsize=(8,3))\n",
    "p1 = fig.add_subplot(1,2,1)\n",
    "plt.hist(userFriendly[\"Mobile banking usage frequency\"] ,bins=10, color=\"indigo\")\n",
    "p2 = fig.add_subplot(1,2,2)\n",
    "plt.hist(notUserFriendly[\"Mobile banking usage frequency\"] ,bins=10, color=\"salmon\")"
   ]
  },
  {
   "cell_type": "markdown",
   "metadata": {},
   "source": [
    "### Kullanıcıların Tercih Ettiği Bankalara Göre Mobil Bankacılık Uygulamasını Ne Kadar Kullanıcı Dostu Bulduğuna Dair Daire Grafiği"
   ]
  },
  {
   "cell_type": "code",
   "execution_count": 99,
   "metadata": {},
   "outputs": [
    {
     "data": {
      "image/png": "[encoded data removed]",
      "text/plain": [
       "<matplotlib.figure.Figure at 0x7f3eb2f08f28>"
      ]
     },
     "metadata": {},
     "output_type": "display_data"
    }
   ],
   "source": [
    "label = {'Yes': 1, 'No': 0}\n",
    "df=dataset.applymap(lambda s: label.get(s) if s in label else s)\n",
    "fig = plt.figure(figsize=(5,5))\n",
    "p1 = fig.add_subplot(1,1,1)\n",
    "df.groupby('Your bank information')['Do you find mobile application user-friendly'].sum().plot(kind='pie')\n",
    "plt.show()"
   ]
  },
  {
   "cell_type": "markdown",
   "metadata": {},
   "source": [
    "## Veri Setinin Analizi"
   ]
  },
  {
   "cell_type": "markdown",
   "metadata": {},
   "source": [
    "### Modeli Eğitme & Performans Metriklerini Uygulama"
   ]
  },
  {
   "cell_type": "code",
   "execution_count": 100,
   "metadata": {},
   "outputs": [],
   "source": [
    "from sklearn.model_selection import KFold\n",
    "from sklearn.tree import DecisionTreeClassifier\n",
    "from sklearn.metrics import confusion_matrix,classification_report\n",
    "from sklearn.metrics import precision_recall_fscore_support\n",
    "from sklearn.tree import export_graphviz"
   ]
  },
  {
   "cell_type": "code",
   "execution_count": 101,
   "metadata": {},
   "outputs": [],
   "source": [
    "kf = KFold(n_splits=10)  # Veri seti her seferinde 9'u train, 1'i test için olmak üzere 10 parçaya bölünür.\n",
    "KFold(n_splits=10, random_state=None, shuffle=False)\n",
    "# Veri setinin dengesiz olma durumunu düzeltmek için class_weight parametresi eklenir.\n",
    "clf_tree=DecisionTreeClassifier(class_weight=\"balanced\")  "
   ]
  },
  {
   "cell_type": "markdown",
   "metadata": {},
   "source": [
    "#### 10 kat çapraz doğrulama yöntemi kullanılarak ulaşılan, her bir kat için ayrı  Precision, Recall, F1-Score ve Support değerlerinin hesaplanması"
   ]
  },
  {
   "cell_type": "code",
   "execution_count": 102,
   "metadata": {},
   "outputs": [
    {
     "name": "stdout",
     "output_type": "stream",
     "text": [
      "1 . fold\n",
      "             precision    recall  f1-score   support\n",
      "\n",
      "         No       0.00      0.00      0.00         3\n",
      "        Yes       0.62      0.71      0.67         7\n",
      "\n",
      "avg / total       0.44      0.50      0.47        10\n",
      "\n",
      "y_test:  ['Yes' 'No' 'No' 'No' 'Yes' 'Yes' 'Yes' 'Yes' 'Yes' 'Yes']\n",
      "y_pred:  ['No' 'Yes' 'Yes' 'Yes' 'Yes' 'Yes' 'Yes' 'No' 'Yes' 'Yes']\n",
      "\n",
      "---------------------------------------------------------------------------------\n",
      "\n",
      "2 . fold\n",
      "             precision    recall  f1-score   support\n",
      "\n",
      "         No       0.50      0.25      0.33         4\n",
      "        Yes       0.62      0.83      0.71         6\n",
      "\n",
      "avg / total       0.57      0.60      0.56        10\n",
      "\n",
      "y_test:  ['Yes' 'Yes' 'Yes' 'No' 'No' 'No' 'No' 'Yes' 'Yes' 'Yes']\n",
      "y_pred:  ['Yes' 'Yes' 'Yes' 'Yes' 'Yes' 'Yes' 'No' 'Yes' 'No' 'Yes']\n",
      "\n",
      "---------------------------------------------------------------------------------\n",
      "\n",
      "3 . fold\n",
      "             precision    recall  f1-score   support\n",
      "\n",
      "         No       0.33      0.33      0.33         3\n",
      "        Yes       0.71      0.71      0.71         7\n",
      "\n",
      "avg / total       0.60      0.60      0.60        10\n",
      "\n",
      "y_test:  ['Yes' 'Yes' 'No' 'Yes' 'No' 'Yes' 'No' 'Yes' 'Yes' 'Yes']\n",
      "y_pred:  ['No' 'Yes' 'No' 'Yes' 'Yes' 'No' 'Yes' 'Yes' 'Yes' 'Yes']\n",
      "\n",
      "---------------------------------------------------------------------------------\n",
      "\n",
      "4 . fold\n",
      "             precision    recall  f1-score   support\n",
      "\n",
      "         No       0.20      0.33      0.25         3\n",
      "        Yes       0.60      0.43      0.50         7\n",
      "\n",
      "avg / total       0.48      0.40      0.42        10\n",
      "\n",
      "y_test:  ['No' 'Yes' 'Yes' 'Yes' 'No' 'Yes' 'Yes' 'Yes' 'No' 'Yes']\n",
      "y_pred:  ['No' 'No' 'Yes' 'No' 'Yes' 'No' 'No' 'Yes' 'Yes' 'Yes']\n",
      "\n",
      "---------------------------------------------------------------------------------\n",
      "\n",
      "5 . fold\n",
      "             precision    recall  f1-score   support\n",
      "\n",
      "         No       0.67      0.40      0.50         5\n",
      "        Yes       0.57      0.80      0.67         5\n",
      "\n",
      "avg / total       0.62      0.60      0.58        10\n",
      "\n",
      "y_test:  ['Yes' 'Yes' 'No' 'Yes' 'No' 'No' 'No' 'Yes' 'No' 'Yes']\n",
      "y_pred:  ['Yes' 'Yes' 'No' 'No' 'No' 'Yes' 'Yes' 'Yes' 'Yes' 'Yes']\n",
      "\n",
      "---------------------------------------------------------------------------------\n",
      "\n",
      "6 . fold\n",
      "             precision    recall  f1-score   support\n",
      "\n",
      "         No       0.25      0.50      0.33         2\n",
      "        Yes       0.83      0.62      0.71         8\n",
      "\n",
      "avg / total       0.72      0.60      0.64        10\n",
      "\n",
      "y_test:  ['Yes' 'No' 'Yes' 'Yes' 'Yes' 'No' 'Yes' 'Yes' 'Yes' 'Yes']\n",
      "y_pred:  ['Yes' 'No' 'Yes' 'No' 'Yes' 'Yes' 'Yes' 'No' 'Yes' 'No']\n",
      "\n",
      "---------------------------------------------------------------------------------\n",
      "\n",
      "7 . fold\n",
      "             precision    recall  f1-score   support\n",
      "\n",
      "         No       0.00      0.00      0.00         2\n",
      "        Yes       0.78      0.88      0.82         8\n",
      "\n",
      "avg / total       0.62      0.70      0.66        10\n",
      "\n",
      "y_test:  ['Yes' 'Yes' 'Yes' 'No' 'Yes' 'Yes' 'Yes' 'Yes' 'No' 'Yes']\n",
      "y_pred:  ['Yes' 'No' 'Yes' 'Yes' 'Yes' 'Yes' 'Yes' 'Yes' 'Yes' 'Yes']\n",
      "\n",
      "---------------------------------------------------------------------------------\n",
      "\n",
      "8 . fold\n",
      "             precision    recall  f1-score   support\n",
      "\n",
      "         No       0.00      0.00      0.00         1\n",
      "        Yes       0.89      0.89      0.89         9\n",
      "\n",
      "avg / total       0.80      0.80      0.80        10\n",
      "\n",
      "y_test:  ['Yes' 'Yes' 'Yes' 'Yes' 'Yes' 'No' 'Yes' 'Yes' 'Yes' 'Yes']\n",
      "y_pred:  ['Yes' 'Yes' 'Yes' 'Yes' 'Yes' 'Yes' 'Yes' 'Yes' 'No' 'Yes']\n",
      "\n",
      "---------------------------------------------------------------------------------\n",
      "\n",
      "9 . fold\n",
      "             precision    recall  f1-score   support\n",
      "\n",
      "         No       0.20      0.50      0.29         2\n",
      "        Yes       0.80      0.50      0.62         8\n",
      "\n",
      "avg / total       0.68      0.50      0.55        10\n",
      "\n",
      "y_test:  ['Yes' 'Yes' 'Yes' 'Yes' 'Yes' 'Yes' 'No' 'Yes' 'Yes' 'No']\n",
      "y_pred:  ['No' 'No' 'No' 'Yes' 'Yes' 'Yes' 'Yes' 'No' 'Yes' 'No']\n",
      "\n",
      "---------------------------------------------------------------------------------\n",
      "\n",
      "10 . fold\n",
      "             precision    recall  f1-score   support\n",
      "\n",
      "         No       0.00      0.00      0.00         1\n",
      "        Yes       0.90      1.00      0.95         9\n",
      "\n",
      "avg / total       0.81      0.90      0.85        10\n",
      "\n",
      "y_test:  ['No' 'Yes' 'Yes' 'Yes' 'Yes' 'Yes' 'Yes' 'Yes' 'Yes' 'Yes']\n",
      "y_pred:  ['Yes' 'Yes' 'Yes' 'Yes' 'Yes' 'Yes' 'Yes' 'Yes' 'Yes' 'Yes']\n",
      "\n",
      "---------------------------------------------------------------------------------\n",
      "\n",
      "Avg score: \n",
      "\n",
      "Avg precision (No-Yes): 0.21 - 0.73\n",
      "Avg recall (No-Yes): 0.23 - 0.74\n",
      "Avg f1-score (No-Yes): 0.20 - 0.73\n",
      "Avg support (No-Yes): 2.60 - 7.40\n"
     ]
    },
    {
     "name": "stderr",
     "output_type": "stream",
     "text": [
      "/home/sule/anaconda3/lib/python3.6/site-packages/sklearn/metrics/classification.py:1135: UndefinedMetricWarning: Precision and F-score are ill-defined and being set to 0.0 in labels with no predicted samples.\n",
      "  'precision', 'predicted', average, warn_for)\n"
     ]
    }
   ],
   "source": [
    "score_array =[] \n",
    "k=1\n",
    "for train_index, test_index in kf.split(X):\n",
    "    print(k, \". fold\")\n",
    "    k+=1\n",
    "    X_train, X_test = X[train_index], X[test_index]\n",
    "    y_train, y_test = y[train_index], y[test_index]\n",
    "    clf=clf_tree.fit(X_train,y_train)\n",
    "    y_pred = clf.predict(X_test)\n",
    "    print(classification_report(y_test,clf_tree.predict(X_test)))\n",
    "    # Her bir katta bulunan değerler daha sonra ortalama hesaplamak üzere score_array'e eklenir.\n",
    "    score_array.append(precision_recall_fscore_support(y_test, y_pred, average=None))\n",
    "    print(\"y_test: \", y_test)\n",
    "    print(\"y_pred: \", y_pred)\n",
    "    print(\"\\n---------------------------------------------------------------------------------\\n\")\n",
    "# Her bir katta bulunan Precision, Recall, F1-Score ve Support değerlerinin ortalaması alınarak sistemin genel durumu tespit edilir.\n",
    "avg_score = np.mean(score_array, axis=0) \n",
    "print(\"Avg score: \\n\")\n",
    "print(\"Avg precision (No-Yes): {0:.2f} - {1:.2f}\".format(avg_score[0][0], avg_score[0][1]))\n",
    "print(\"Avg recall (No-Yes): {0:.2f} - {1:.2f}\".format(avg_score[1][0], avg_score[1][1]))\n",
    "print(\"Avg f1-score (No-Yes): {0:.2f} - {1:.2f}\".format(avg_score[2][0], avg_score[2][1]))\n",
    "print(\"Avg support (No-Yes): {0:.2f} - {1:.2f}\".format(avg_score[3][0], avg_score[3][1]))"
   ]
  },
  {
   "cell_type": "markdown",
   "metadata": {},
   "source": [
    "### Karar Ağacını Kaydetme"
   ]
  },
  {
   "cell_type": "code",
   "execution_count": 103,
   "metadata": {},
   "outputs": [],
   "source": [
    "export_graphviz(clf, out_file='tree.dot')"
   ]
  },
  {
   "cell_type": "markdown",
   "metadata": {},
   "source": [
    "## Sonuçların Görselleştirmesi"
   ]
  },
  {
   "cell_type": "markdown",
   "metadata": {},
   "source": [
    "#### Her bir kat için ayrı bulunan Precision, Recall, F1-Score ve Support değerlerinin bar chart ile gösterilmesi"
   ]
  },
  {
   "cell_type": "code",
   "execution_count": 104,
   "metadata": {},
   "outputs": [
    {
     "name": "stdout",
     "output_type": "stream",
     "text": [
      "   1 . fold\n"
     ]
    },
    {
     "data": {
      "image/png": "[encoded data removed]",
      "text/plain": [
       "<matplotlib.figure.Figure at 0x7f3eb2a56c88>"
      ]
     },
     "metadata": {},
     "output_type": "display_data"
    },
    {
     "name": "stdout",
     "output_type": "stream",
     "text": [
      "      0.00         0.62        0.00         0.71        0.00          0.67         3            7\n",
      "\n",
      "\n",
      "   2 . fold\n"
     ]
    },
    {
     "data": {
      "image/png": "[encoded data removed]",
      "text/plain": [
       "<matplotlib.figure.Figure at 0x7f3eb29e5550>"
      ]
     },
     "metadata": {},
     "output_type": "display_data"
    },
    {
     "name": "stdout",
     "output_type": "stream",
     "text": [
      "      0.50         0.62        0.25         0.83        0.33          0.71         4            6\n",
      "\n",
      "\n",
      "   3 . fold\n"
     ]
    },
    {
     "data": {
      "image/png": "[encoded data removed]",
      "text/plain": [
       "<matplotlib.figure.Figure at 0x7f3eb28b13c8>"
      ]
     },
     "metadata": {},
     "output_type": "display_data"
    },
    {
     "name": "stdout",
     "output_type": "stream",
     "text": [
      "      0.33         0.71        0.33         0.71        0.33          0.71         3            7\n",
      "\n",
      "\n",
      "   4 . fold\n"
     ]
    },
    {
     "data": {
      "image/png": "[encoded data removed]",
      "text/plain": [
       "<matplotlib.figure.Figure at 0x7f3eb291a320>"
      ]
     },
     "metadata": {},
     "output_type": "display_data"
    },
    {
     "name": "stdout",
     "output_type": "stream",
     "text": [
      "      0.20         0.60        0.33         0.43        0.25          0.50         3            7\n",
      "\n",
      "\n",
      "   5 . fold\n"
     ]
    },
    {
     "data": {
      "image/png": "[encoded data removed]",
      "text/plain": [
       "<matplotlib.figure.Figure at 0x7f3eb2670ac8>"
      ]
     },
     "metadata": {},
     "output_type": "display_data"
    },
    {
     "name": "stdout",
     "output_type": "stream",
     "text": [
      "      0.67         0.57        0.40         0.80        0.50          0.67         5            5\n",
      "\n",
      "\n",
      "   6 . fold\n"
     ]
    },
    {
     "data": {
      "image/png": "[encoded data removed]",
      "text/plain": [
       "<matplotlib.figure.Figure at 0x7f3eb26ed5c0>"
      ]
     },
     "metadata": {},
     "output_type": "display_data"
    },
    {
     "name": "stdout",
     "output_type": "stream",
     "text": [
      "      0.25         0.83        0.50         0.62        0.33          0.71         2            8\n",
      "\n",
      "\n",
      "   7 . fold\n"
     ]
    },
    {
     "data": {
      "image/png": "[encoded data removed]",
      "text/plain": [
       "<matplotlib.figure.Figure at 0x7f3eb2a94e10>"
      ]
     },
     "metadata": {},
     "output_type": "display_data"
    },
    {
     "name": "stdout",
     "output_type": "stream",
     "text": [
      "      0.00         0.78        0.00         0.88        0.00          0.82         2            8\n",
      "\n",
      "\n",
      "   8 . fold\n"
     ]
    },
    {
     "data": {
      "image/png": "[encoded data removed]",
      "text/plain": [
       "<matplotlib.figure.Figure at 0x7f3eb40459e8>"
      ]
     },
     "metadata": {},
     "output_type": "display_data"
    },
    {
     "name": "stdout",
     "output_type": "stream",
     "text": [
      "      0.00         0.89        0.00         0.89        0.00          0.89         1            9\n",
      "\n",
      "\n",
      "   9 . fold\n"
     ]
    },
    {
     "data": {
      "image/png": "[encoded data removed]",
      "text/plain": [
       "<matplotlib.figure.Figure at 0x7f3eb280d2e8>"
      ]
     },
     "metadata": {},
     "output_type": "display_data"
    },
    {
     "name": "stdout",
     "output_type": "stream",
     "text": [
      "      0.20         0.80        0.50         0.50        0.29          0.62         2            8\n",
      "\n",
      "\n",
      "   10 . fold\n"
     ]
    },
    {
     "data": {
      "image/png": "[encoded data removed]",
      "text/plain": [
       "<matplotlib.figure.Figure at 0x7f3eb2784e10>"
      ]
     },
     "metadata": {},
     "output_type": "display_data"
    },
    {
     "name": "stdout",
     "output_type": "stream",
     "text": [
      "      0.00         0.90        0.00         1.00        0.00          0.95         1            9\n",
      "\n",
      "\n"
     ]
    }
   ],
   "source": [
    "noYes=[\"No\",\"Yes\"]\n",
    "for i in range(len(score_array)):\n",
    "    print(\"  \", i+1, \".\", \"fold\")\n",
    "    fig = plt.figure(figsize=(13,2.5))\n",
    "    p1 = fig.add_subplot(1,4,1)\n",
    "    plt.bar(noYes, score_array[i][0], 0.4, alpha=0.4, color=\"blue\")   \n",
    "    plt.xlabel('Precision')\n",
    "    p2 = fig.add_subplot(1,4,2)\n",
    "    plt.bar(noYes, score_array[i][1], 0.4, alpha=0.4, color=\"red\")   \n",
    "    plt.xlabel('Recall')\n",
    "    p3 = fig.add_subplot(1,4,3)\n",
    "    plt.bar(noYes, score_array[i][2], 0.4, alpha=0.4, color=\"yellow\")   \n",
    "    plt.xlabel('F1-Score')\n",
    "    p4 = fig.add_subplot(1,4,4)\n",
    "    plt.bar(noYes, score_array[i][3], 0.4, alpha=0.4, color=\"green\")   \n",
    "    plt.xlabel('Support')\n",
    "    plt.show()   \n",
    "    print(\"      {0:.2f}         {1:.2f}        {2:.2f}         {3:.2f}        {4:.2f}          {5:.2f}         {6:.0f}            {7:.0f}\\n\\n\".format(score_array[i][0][0], score_array[i][0][1],score_array[i][1][0], score_array[i][1][1], score_array[i][2][0], score_array[i][2][1], score_array[i][3][0], score_array[i][3][1]))"
   ]
  },
  {
   "cell_type": "markdown",
   "metadata": {},
   "source": [
    "#### Örnek olarak seçilen 10 öznitelik sütunundaki veriye karşılık gelen hedef sütundaki verinin scatter plot ile gösterilmesi"
   ]
  },
  {
   "cell_type": "code",
   "execution_count": 105,
   "metadata": {},
   "outputs": [
    {
     "name": "stdout",
     "output_type": "stream",
     "text": [
      "Internet banking usage frequency\n"
     ]
    },
    {
     "data": {
      "image/png": "[encoded data removed]",
      "text/plain": [
       "<matplotlib.figure.Figure at 0x7f3eb2a94a20>"
      ]
     },
     "metadata": {},
     "output_type": "display_data"
    },
    {
     "name": "stdout",
     "output_type": "stream",
     "text": [
      "\n",
      "\n",
      "Mobile banking usage frequency\n"
     ]
    },
    {
     "data": {
      "image/png": "[encoded data removed]",
      "text/plain": [
       "<matplotlib.figure.Figure at 0x7f3eb26ef710>"
      ]
     },
     "metadata": {},
     "output_type": "display_data"
    },
    {
     "name": "stdout",
     "output_type": "stream",
     "text": [
      "\n",
      "\n",
      "Credit card debt inquiry\n"
     ]
    },
    {
     "data": {
      "image/png": "[encoded data removed]",
      "text/plain": [
       "<matplotlib.figure.Figure at 0x7f3eb2538780>"
      ]
     },
     "metadata": {},
     "output_type": "display_data"
    },
    {
     "name": "stdout",
     "output_type": "stream",
     "text": [
      "\n",
      "\n",
      "Credit card debt payment\n"
     ]
    },
    {
     "data": {
      "image/png": "[encoded data removed]",
      "text/plain": [
       "<matplotlib.figure.Figure at 0x7f3eb2507588>"
      ]
     },
     "metadata": {},
     "output_type": "display_data"
    },
    {
     "name": "stdout",
     "output_type": "stream",
     "text": [
      "\n",
      "\n",
      "Credit card limit transactions\n"
     ]
    },
    {
     "data": {
      "image/png": "[encoded data removed]",
      "text/plain": [
       "<matplotlib.figure.Figure at 0x7f3eb24d7390>"
      ]
     },
     "metadata": {},
     "output_type": "display_data"
    },
    {
     "name": "stdout",
     "output_type": "stream",
     "text": [
      "\n",
      "\n",
      "Create & delete virtual card\n"
     ]
    },
    {
     "data": {
      "image/png": "[encoded data removed]",
      "text/plain": [
       "<matplotlib.figure.Figure at 0x7f3eb2423550>"
      ]
     },
     "metadata": {},
     "output_type": "display_data"
    },
    {
     "name": "stdout",
     "output_type": "stream",
     "text": [
      "\n",
      "\n",
      "Virtual card limit transactions\n"
     ]
    },
    {
     "data": {
      "image/png": "[encoded data removed]",
      "text/plain": [
       "<matplotlib.figure.Figure at 0x7f3eb23e9128>"
      ]
     },
     "metadata": {},
     "output_type": "display_data"
    },
    {
     "name": "stdout",
     "output_type": "stream",
     "text": [
      "\n",
      "\n",
      "An additional new card application\n"
     ]
    },
    {
     "data": {
      "image/png": "[encoded data removed]",
      "text/plain": [
       "<matplotlib.figure.Figure at 0x7f3eb23d7f28>"
      ]
     },
     "metadata": {},
     "output_type": "display_data"
    },
    {
     "name": "stdout",
     "output_type": "stream",
     "text": [
      "\n",
      "\n",
      "Opening a new account\n"
     ]
    },
    {
     "data": {
      "image/png": "[encoded data removed]",
      "text/plain": [
       "<matplotlib.figure.Figure at 0x7f3eb2386518>"
      ]
     },
     "metadata": {},
     "output_type": "display_data"
    },
    {
     "name": "stdout",
     "output_type": "stream",
     "text": [
      "\n",
      "\n",
      "Balance check\n"
     ]
    },
    {
     "data": {
      "image/png": "[encoded data removed]",
      "text/plain": [
       "<matplotlib.figure.Figure at 0x7f3eb234f048>"
      ]
     },
     "metadata": {},
     "output_type": "display_data"
    },
    {
     "name": "stdout",
     "output_type": "stream",
     "text": [
      "\n",
      "\n"
     ]
    }
   ],
   "source": [
    "j=0\n",
    "for i in dataset2.columns:\n",
    "    if j==10:\n",
    "        break\n",
    "    print(i)\n",
    "    plt.scatter(dataset2[i], dataset2['Do you find mobile application user-friendly'], alpha=0.07)\n",
    "    plt.show()\n",
    "    print(\"\\n\")\n",
    "    j+=1"
   ]
  }
 ],
 "metadata": {
  "kernelspec": {
   "display_name": "Python 3",
   "language": "python",
   "name": "python3"
  },
  "language_info": {
   "codemirror_mode": {
    "name": "ipython",
    "version": 3
   },
   "file_extension": ".py",
   "mimetype": "text/x-python",
   "name": "python",
   "nbconvert_exporter": "python",
   "pygments_lexer": "ipython3",
   "version": "3.6.4"
  }
 },
 "nbformat": 4,
 "nbformat_minor": 2
}
